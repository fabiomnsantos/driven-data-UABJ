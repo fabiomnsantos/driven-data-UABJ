{
 "cells": [
  {
   "cell_type": "markdown",
   "id": "107f64b1-62e7-4909-bc8b-0fe8c7d89dcb",
   "metadata": {},
   "source": [
    "# Install all essential packages to access the database"
   ]
  },
  {
   "cell_type": "code",
   "execution_count": 1,
   "id": "a82efe74-8633-45d0-a060-c48255b90724",
   "metadata": {},
   "outputs": [
    {
     "name": "stdout",
     "output_type": "stream",
     "text": [
      "Collecting climateserv\n",
      "  Downloading climateserv-0.0.24-py3-none-any.whl (9.3 kB)\n",
      "Requirement already satisfied: requests in /home/gladis/Ambientes/OndasGravitacionais/lib/python3.9/site-packages (from climateserv) (2.31.0)\n",
      "Requirement already satisfied: charset-normalizer<4,>=2 in /home/gladis/Ambientes/OndasGravitacionais/lib/python3.9/site-packages (from requests->climateserv) (3.3.2)\n",
      "Requirement already satisfied: idna<4,>=2.5 in /home/gladis/Ambientes/OndasGravitacionais/lib/python3.9/site-packages (from requests->climateserv) (3.6)\n",
      "Requirement already satisfied: urllib3<3,>=1.21.1 in /home/gladis/Ambientes/OndasGravitacionais/lib/python3.9/site-packages (from requests->climateserv) (2.1.0)\n",
      "Requirement already satisfied: certifi>=2017.4.17 in /home/gladis/Ambientes/OndasGravitacionais/lib/python3.9/site-packages (from requests->climateserv) (2023.11.17)\n",
      "Installing collected packages: climateserv\n",
      "Successfully installed climateserv-0.0.24\n"
     ]
    }
   ],
   "source": [
    "!pip install climateserv"
   ]
  },
  {
   "cell_type": "code",
   "execution_count": 3,
   "id": "f33d26e4-1e2a-4541-9758-8116586f8718",
   "metadata": {},
   "outputs": [],
   "source": [
    "import requests\n",
    "# Definir os parâmetros da solicitação\n",
    "params = {\n",
    "    \"type\": \"CHIRPS\", # Tipo de produto\n",
    "    \"interval\": \"daily\", # Intervalo de tempo\n",
    "    \"start_date\": \"2023-01-01\", # Data inicial\n",
    "    \"end_date\": \"2023-03-31\", # Data final\n",
    "    \"latitude\": -8.33, # Latitude em graus decimais\n",
    "    \"longitude\": -36.67 # Longitude em graus decimais\n",
    "}\n",
    "\n",
    "# Definir a URL da API do ClimateSERV\n",
    "url = \"https://climateserv.servirglobal.net/chirps/submitDataRequest\"\n",
    "\n",
    "# Fazer a solicitação e obter a resposta\n",
    "response = requests.get(url, params=params)"
   ]
  },
  {
   "cell_type": "code",
   "execution_count": 4,
   "id": "afd9a41a-51cd-4517-afdf-b79069c29c24",
   "metadata": {},
   "outputs": [
    {
     "name": "stdout",
     "output_type": "stream",
     "text": [
      "Erro: 500 - Internal Server Error\n"
     ]
    }
   ],
   "source": [
    "if response.status_code == 200:\n",
    "    # Converter a resposta em JSON\n",
    "    data = response.json()\n",
    "    # Imprimir os dados de precipitação\n",
    "    print(data[\"data\"])\n",
    "else:\n",
    "    # Imprimir o código de status e a mensagem de erro\n",
    "    print(f\"Erro: {response.status_code} - {response.reason}\")"
   ]
  },
  {
   "cell_type": "code",
   "execution_count": null,
   "id": "5ee187a8-c5c1-48c1-acf7-e9c51385d3ac",
   "metadata": {},
   "outputs": [],
   "source": []
  }
 ],
 "metadata": {
  "kernelspec": {
   "display_name": "Python 3 (ipykernel)",
   "language": "python",
   "name": "python3"
  },
  "language_info": {
   "codemirror_mode": {
    "name": "ipython",
    "version": 3
   },
   "file_extension": ".py",
   "mimetype": "text/x-python",
   "name": "python",
   "nbconvert_exporter": "python",
   "pygments_lexer": "ipython3",
   "version": "3.9.18"
  }
 },
 "nbformat": 4,
 "nbformat_minor": 5
}
