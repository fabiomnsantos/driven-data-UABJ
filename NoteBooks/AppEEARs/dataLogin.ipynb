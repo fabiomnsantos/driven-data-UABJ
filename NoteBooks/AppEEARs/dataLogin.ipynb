{
 "cells": [
  {
   "cell_type": "code",
   "execution_count": 1,
   "id": "b1c36819-1a6f-44a5-a138-abe7bed61327",
   "metadata": {},
   "outputs": [],
   "source": [
    "_usuario = \"gladistony.silva\"\n",
    "_email = \"bistone3000@gmail.com\"\n",
    "_senha = \"PQdSMF.M6m_ZrNh\""
   ]
  }
 ],
 "metadata": {
  "kernelspec": {
   "display_name": "Python 3 (ipykernel)",
   "language": "python",
   "name": "python3"
  },
  "language_info": {
   "codemirror_mode": {
    "name": "ipython",
    "version": 3
   },
   "file_extension": ".py",
   "mimetype": "text/x-python",
   "name": "python",
   "nbconvert_exporter": "python",
   "pygments_lexer": "ipython3",
   "version": "3.9.18"
  }
 },
 "nbformat": 4,
 "nbformat_minor": 5
}
