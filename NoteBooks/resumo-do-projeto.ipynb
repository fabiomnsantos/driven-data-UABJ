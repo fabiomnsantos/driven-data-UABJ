{
 "cells": [
  {
   "cell_type": "markdown",
   "id": "844e1e47-2fe9-4393-8e7a-fc95e98f1665",
   "metadata": {},
   "source": [
    "# Projeto Pale Blue Dot"
   ]
  },
  {
   "cell_type": "markdown",
   "id": "34942579-bd9f-4a48-8aaa-ae941244e4d7",
   "metadata": {},
   "source": [
    "## Datasets úteis"
   ]
  },
  {
   "cell_type": "markdown",
   "id": "72591145-ef93-49bc-a3b2-662900f8924e",
   "metadata": {},
   "source": [
    "\n",
    "| Dataset   | Description                                                                                 | Resolution             |   |   |\n",
    "|-----------|---------------------------------------------------------------------------------------------|------------------------|---|---|\n",
    "| Landsat   | Imagery of visible to infrared light (highest spatial resolution)                           | 15 - 30 m every 8 days |   |   |\n",
    "| MODIS     | Imagery of visible to infrared light (high spectral and temporal resolution)                | 500 m every 1-2 days   |   |   |\n",
    "| VIIRS     | Imagery of visible to infrared light (newer continuation of MODIS)                          | 500 m every day        |   |   |\n",
    "| ASTER     | Imagery of visible to infrared light (high spectral resolution and high spatial resolution) | 15-90 m                |   |   |\n",
    "| ECOSTRESS | Imaging spectrometer measuring water loss from plants                                       | 70 m every 1-2 days    |   |   |\n",
    "| GRACE-FO  | Radar altimeter water movement based on gravity                                             | 13 km every month      |   |   |\n",
    "| GEDI      | Laser-constructed 3D map of forests                                                         | ~30 m every ~1 day     |   |   |\n",
    "| HRRR      | Radar-based weather model                                                                   | 3 km every hour        |   |   |\n",
    "| SMAP      | Imaging radar measuring soil moisture                                                       | 36 km every 2-3 days   |   |   |\n",
    "| AIRS      | Infrared profiler of atmospheric vapor and trace gases                                      | 1 km every 1-2 days    |   |   |\n",
    "| AMSR-2    | Imagery focused on microwave emissions                                                      | 10 km every 2 days     |   |   |\n",
    "\n",
    "\n",
    "**Fonte**: https://drivendata.co/blog/public-eo-data-sources \\\n",
    "**Gerador de tabelas**: https://www.tablesgenerator.com/markdown_tables"
   ]
  },
  {
   "cell_type": "markdown",
   "id": "59780366-d2a1-468f-bd39-e30e8d560973",
   "metadata": {},
   "source": [
    "## Explorando os Dados\n",
    "\n",
    "**Earth Explorer**: https://earthexplorer.usgs.gov/ \\\n",
    "**AppEEars**: https://appeears.earthdatacloud.nasa.gov/  Tutorial: https://www.youtube.com/watch?v=iBpisD9APPE"
   ]
  },
  {
   "cell_type": "markdown",
   "id": "219c81e7-7b52-4db4-9745-82d623a51595",
   "metadata": {},
   "source": [
    "## Guia para iniciantes"
   ]
  },
  {
   "cell_type": "markdown",
   "id": "6c0a5bc6-a1d4-4c07-804f-f55e5d9fb2bb",
   "metadata": {},
   "source": []
  },
  {
   "cell_type": "markdown",
   "id": "37e4bd12-c1fb-4799-838b-313692354c1c",
   "metadata": {},
   "source": [
    "## Parâmetros de Avaliação"
   ]
  },
  {
   "cell_type": "markdown",
   "id": "5fbc378c-64ac-44a0-940e-1661a5e87fd9",
   "metadata": {},
   "source": [
    "**Impact (20%)**\n",
    "\n",
    "* How well does the submission further at least one of the key UN Sustainable Development Goals (zero hunger, clean water and sanitation, climate action)?\n",
    "* To what extent could the submission inform an action or decision?\n",
    "\n",
    "We are focusing on the impact of desertification in the 3 UN SDGs. Desertification impacts on the available agricultural land, thus relating to the zero hunger goal. It also relates to a persistent lack of clean water in a certain region. Finally, desertification is enhanced by antrophic factors, as deforestation and unsustainable use of water, which furthers climate change. \n",
    "\n",
    "Our goal is thus to keep track the advance of desertification in Brazil. This can be measured by evapotranspiration indices and can be validated by weather station data. We also would like to distinguish deforestation caused by humans from other natural causes. This will help policy makers to decide which areas deserve more focus to stop desertification.\n",
    "\n",
    "**Integrity (20%)** \n",
    "\n",
    "* Has the team thoughtfully engaged with members of the community primarily affected or with the broader context of the chosen issue (historical, social, political, etc.)?\n",
    "* Does the submission demonstrate ethical and equitable science?\n",
    "\n",
    "Desertification and deforestation has a long history in Brazil, from the extrativist period of Brazil as a Portugueses colony, till the 20th century with the urban and agricultural expansions.\n",
    "\n",
    "We want to find ways to diminish the impact of desertification and deforestation to allow a more equitable access to clean water for drink and for local farming.\n",
    "\n",
    "**Rigor (20%)**\n",
    "\n",
    "* Is the visualization built on sound quantitative analysis?\n",
    "* Does it demonstrate a deep understanding of the data used and tools available?\n",
    "\n",
    "We plan to follow a recent study on desertificartion in Brazil. We would like to make an animation or an interactive visualization of the data.\n",
    "\n",
    "**Usability (20%)**\n",
    "\n",
    "* Could others in the research or scientific community understand and build on the work?\n",
    "* Is the process of creating the visual open and transparent?\n",
    "\n",
    "We plan to build a detailed report on how constructed our visualization and collected our data.\n",
    "\n",
    "**Interpretability (20%)**\n",
    "\n",
    "* How easy is it to accurately interpret the visualization?\n",
    "\n"
   ]
  },
  {
   "cell_type": "markdown",
   "id": "8cb76041-03a2-457a-941b-0763c3c9971f",
   "metadata": {},
   "source": [
    "### Detailed report prompts"
   ]
  },
  {
   "cell_type": "markdown",
   "id": "44864829-7bd7-467f-bca0-a73da1f2d6ad",
   "metadata": {},
   "source": [
    "- How does your visual inform a decision or action that furthers one or more of the key competition SDGs (zero hunger, clean water and sanitation, climate action)?\n",
    "\n",
    "- How did you create your submission? Include the tools you used (eg. Python, Excel, specific python packages), how you processed the data, and (if applicable) how you managed your codebase. If you have a public repository with code, you can share a link here.\n",
    "\n",
    "- What motivated you to choose this topic?\n",
    "\n",
    "- How did you learn about the broader context of your chosen issue (e.g., historical, social, political)? This could include drawing on the lived experiences of team members, reading articles and literature, conducting interviews with community members, etc. Did what you learned change your approach?\n",
    "\n",
    "- What are the ethics and/or equity issues you considered? What are some possible strategies or approaches for addressing them?\n",
    "\n",
    "- Would your team like to share the URL of an interactive visualization?"
   ]
  },
  {
   "cell_type": "code",
   "execution_count": null,
   "id": "6f00ff91-9246-459b-b514-492e8a18d0bc",
   "metadata": {},
   "outputs": [],
   "source": []
  }
 ],
 "metadata": {
  "kernelspec": {
   "display_name": "datasci",
   "language": "python",
   "name": "datasci"
  },
  "language_info": {
   "codemirror_mode": {
    "name": "ipython",
    "version": 3
   },
   "file_extension": ".py",
   "mimetype": "text/x-python",
   "name": "python",
   "nbconvert_exporter": "python",
   "pygments_lexer": "ipython3",
   "version": "3.11.3"
  }
 },
 "nbformat": 4,
 "nbformat_minor": 5
}
