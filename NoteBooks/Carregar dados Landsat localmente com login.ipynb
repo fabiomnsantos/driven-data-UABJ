{
 "cells": [
  {
   "cell_type": "markdown",
   "id": "b3e30539-0201-4a81-b147-3c5c5de3e462",
   "metadata": {},
   "source": [
    "# Importação das Bibliotecas"
   ]
  },
  {
   "cell_type": "code",
   "execution_count": 1,
   "id": "69e496e2-62cf-429b-aac7-9b7e5675a953",
   "metadata": {},
   "outputs": [],
   "source": [
    "import datetime\n",
    "import matplotlib.pyplot as plt\n",
    "import pandas as pd\n",
    "import math\n",
    "import json\n",
    "import ipywidgets as widgets\n",
    "import pyperclip\n",
    "import os\n",
    "import pystac_client\n",
    "import planetary_computer\n",
    "import rich.table\n",
    "import odc.stac\n",
    "import tqdm\n",
    "from tqdm.auto import tqdm as progss\n",
    "import requests\n",
    "from landsatxplore.api import API\n",
    "from landsatxplore.earthexplorer import EarthExplorer"
   ]
  },
  {
   "cell_type": "markdown",
   "id": "cd3003a3-d128-4556-95d1-2ba9e8445cfe",
   "metadata": {},
   "source": [
    "# Definições de parametros de entrada"
   ]
  },
  {
   "cell_type": "code",
   "execution_count": 2,
   "id": "8cdb5740-c560-4123-bd3b-fc0ca6724aa8",
   "metadata": {},
   "outputs": [],
   "source": [
    "_posMaps = [-9.7083, -39.8532]\n",
    "_lado = 5 #Tamanho do lado do quadrado em km\n",
    "_mes_de_referencia = 1\n",
    "_ano_inicial = 2020\n",
    "_ano_final = 2023\n",
    "_NomeLocal = \"Poço de Fora, Curaçá - BA\"\n",
    "_filtroNuvem = 10 #Excluir tudo que tiver mais que 10% de nuvens\n",
    "output_dir = 'landsat_data'\n",
    "bands_of_interest = [\"nir08\", \"red\", \"green\", \"blue\", \"lwir11\", \"lwir\"]\n",
    "_login = \"gladistony.silva\"\n",
    "_senha = \"96884544Gladis@\"\n",
    "#lwir11 pode está nomeado como em alguns dados lwir "
   ]
  },
  {
   "cell_type": "markdown",
   "id": "fec3b9d6-5843-4dfe-9c67-ab533d8f2fc9",
   "metadata": {},
   "source": [
    "# Funções de conversão e processamento de informações"
   ]
  },
  {
   "cell_type": "code",
   "execution_count": 3,
   "id": "48eba83c-e5bb-40e0-8749-f9adc9c42fb8",
   "metadata": {},
   "outputs": [],
   "source": [
    "if not os.path.exists(output_dir):\n",
    "    os.makedirs(output_dir)\n",
    "dir_saida = output_dir+\"/\"+f\"{_posMaps[0]} {_posMaps[1]} {_lado}/\"\n",
    "if not os.path.exists(dir_saida):\n",
    "    os.makedirs(dir_saida)\n",
    "def kmToGrau(km, valor):\n",
    "    return valor + (km / (111.32 * math.cos(math.radians(valor))))\n",
    "def calcular_vertices(lat, lon):\n",
    "    metade = _lado / 2\n",
    "    lat1 = kmToGrau(-metade, lat)\n",
    "    lon1 = kmToGrau(-metade, lon)\n",
    "    lat2 = kmToGrau(-metade, lat)\n",
    "    lon2 = kmToGrau(metade, lon)\n",
    "    lat3 = kmToGrau(metade, lat)\n",
    "    lon3 = kmToGrau(metade, lon)\n",
    "    lat4 = kmToGrau(metade, lat)\n",
    "    lon4 = kmToGrau(-metade, lon)\n",
    "    return [[lat1, lon1], [lat2, lon2], [lat3, lon3], [lat4, lon4]]\n",
    "mes_string = \"{:02d}\".format(_mes_de_referencia)\n",
    "def dias_mes(mes, ano):\n",
    "  data = datetime.date(ano, mes, 1)\n",
    "  proximo_mes = data.replace(month=data.month % 12 + 1)\n",
    "  ultimo_dia = proximo_mes - datetime.timedelta(days=1)\n",
    "  return ultimo_dia.day\n",
    "_intervalo_de_tempo = []\n",
    "for i in range(_ano_inicial,_ano_final+1,1):\n",
    "    dia_final = dias_mes(_mes_de_referencia, i)\n",
    "    _intervalo_de_tempo.append(f\"{i}-{mes_string}-01/{i}-{mes_string}-{dia_final}\")\n",
    "def downloadinfo(file_url, name):\n",
    "    response = requests.get(file_url, stream=True)\n",
    "    file_size = int(response.headers.get(\"content-length\", 0))\n",
    "    progress = tqdm.tqdm(total=file_size, unit=\"B\", unit_scale=True)\n",
    "    with open(name, \"wb\") as f:\n",
    "        for chunk in response.iter_content(chunk_size=1024):\n",
    "            f.write(chunk)\n",
    "            progress.update(len(chunk))\n",
    "    progress.close()"
   ]
  },
  {
   "cell_type": "markdown",
   "id": "6e53043f-1737-490c-9368-b8fe69ecfd10",
   "metadata": {},
   "source": [
    "# Exibição primaria dos resultados\n",
    "As informações de coordenadas podem ser melhor visualizadas no seguinte site:\r\n",
    "\r\n",
    "https://geojson.io/\r\n",
    "\r\n",
    "Nele foi feito a seguinte demarcação do mapa para ser utilizado:"
   ]
  },
  {
   "cell_type": "code",
   "execution_count": 4,
   "id": "bf6ce905-2f3f-4d1e-879f-35ca72ad410b",
   "metadata": {},
   "outputs": [
    {
     "name": "stdout",
     "output_type": "stream",
     "text": [
      "https://geojson.io/#map=8/-9.708/-39.853\n"
     ]
    }
   ],
   "source": [
    "link = \"https://geojson.io/#map=8/\"+str(round(_posMaps[0],3))+\"/\"+str(round(_posMaps[1],3))\n",
    "print(link)"
   ]
  },
  {
   "cell_type": "markdown",
   "id": "d941b667-8e1f-4403-a6a5-0b9cae4f4fc0",
   "metadata": {},
   "source": [
    "Delimitar uma area no mapa que será usada para fazer a busca por imagens, para isso criar um quadrado usando essas posições como centro"
   ]
  },
  {
   "cell_type": "code",
   "execution_count": 5,
   "id": "1a1df610-f94e-4751-9733-d26aaabec313",
   "metadata": {},
   "outputs": [
    {
     "name": "stdout",
     "output_type": "stream",
     "text": [
      "[[-39.88245375253269, -9.731084068863375], [-39.88245375253269, -9.685515931136624], [-39.82394624746731, -9.685515931136624], [-39.82394624746731, -9.731084068863375]]\n"
     ]
    }
   ],
   "source": [
    "quadrado = calcular_vertices(_posMaps[1],_posMaps[0])\n",
    "print(quadrado)"
   ]
  },
  {
   "cell_type": "code",
   "execution_count": 6,
   "id": "527afb9b-3870-4fb5-ba4f-fca4d58a6470",
   "metadata": {},
   "outputs": [
    {
     "name": "stdout",
     "output_type": "stream",
     "text": [
      "{\n",
      "  \"type\": \"FeatureCollection\",\n",
      "  \"features\": [\n",
      "    {\n",
      "      \"type\": \"Feature\",\n",
      "      \"properties\": {},\n",
      "      \"geometry\": {\n",
      "        \"coordinates\": [\n",
      "          [\n",
      "            [\n",
      "              -39.88245375253269,\n",
      "              -9.731084068863375\n",
      "            ],\n",
      "            [\n",
      "              -39.88245375253269,\n",
      "              -9.685515931136624\n",
      "            ],\n",
      "            [\n",
      "              -39.82394624746731,\n",
      "              -9.685515931136624\n",
      "            ],\n",
      "            [\n",
      "              -39.82394624746731,\n",
      "              -9.731084068863375\n",
      "            ],\n",
      "            [\n",
      "              -39.88245375253269,\n",
      "              -9.731084068863375\n",
      "            ]\n",
      "          ]\n",
      "        ],\n",
      "        \"type\": \"Polygon\"\n",
      "      }\n",
      "    }\n",
      "  ]\n",
      "}\n"
     ]
    },
    {
     "data": {
      "application/vnd.jupyter.widget-view+json": {
       "model_id": "ccb618ece27b43e5aaf915e0eedb909d",
       "version_major": 2,
       "version_minor": 0
      },
      "text/plain": [
       "Button(description='Copiar GeJson', style=ButtonStyle())"
      ]
     },
     "execution_count": 6,
     "metadata": {},
     "output_type": "execute_result"
    }
   ],
   "source": [
    "data = {\n",
    "  \"type\": \"FeatureCollection\",\n",
    "  \"features\": [\n",
    "    {\n",
    "      \"type\": \"Feature\",\n",
    "      \"properties\": {},\n",
    "      \"geometry\": {\n",
    "        \"coordinates\": [\n",
    "          [\n",
    "            quadrado[0],\n",
    "            quadrado[1],\n",
    "            quadrado[2],\n",
    "            quadrado[3],\n",
    "            quadrado[0]\n",
    "          ]\n",
    "        ],\n",
    "        \"type\": \"Polygon\"\n",
    "      }\n",
    "    }\n",
    "  ]\n",
    "}\n",
    "json_string = json.dumps(data, indent=2)\n",
    "print(json_string)\n",
    "button = widgets.Button(description=\"Copiar GeJson\")\n",
    "def on_button_clicked(b):\n",
    "    pyperclip.copy(json_string)\n",
    "button.on_click(on_button_clicked)\n",
    "button"
   ]
  },
  {
   "cell_type": "markdown",
   "id": "72abf1f1-3dff-4767-affb-a8f4bd097b3a",
   "metadata": {},
   "source": [
    "Ajustando as variaveis, para deixar conforme o padrão informado no site: https://planetarycomputer.microsoft.com/docs/quickstarts/reading-stac/"
   ]
  },
  {
   "cell_type": "code",
   "execution_count": 7,
   "id": "57ee3a5d-e59b-4f27-a97e-684ab301ae2a",
   "metadata": {},
   "outputs": [
    {
     "name": "stdout",
     "output_type": "stream",
     "text": [
      "{'type': 'Polygon', 'coordinates': [[[-39.88245375253269, -9.731084068863375], [-39.88245375253269, -9.685515931136624], [-39.82394624746731, -9.685515931136624], [-39.82394624746731, -9.731084068863375], [-39.88245375253269, -9.731084068863375]]]}\n",
      "[-39.88, -9.73, -39.82, -9.69]\n"
     ]
    }
   ],
   "source": [
    "_area_de_interesse = {\n",
    "    \"type\": \"Polygon\",\n",
    "    \"coordinates\": [\n",
    "          [\n",
    "            quadrado[0],\n",
    "            quadrado[1],\n",
    "            quadrado[2],\n",
    "            quadrado[3],\n",
    "            quadrado[0]\n",
    "          ]\n",
    "        ]\n",
    "}\n",
    "print(_area_de_interesse)\n",
    "bbox_of_interest = _area_de_interesse['coordinates']\n",
    "bbox_of_interest = [round(bbox_of_interest[0][0][0],2),round(bbox_of_interest[0][0][1],2),round(bbox_of_interest[0][2][0],2),round(bbox_of_interest[0][2][1],2)]\n",
    "print( bbox_of_interest)"
   ]
  },
  {
   "cell_type": "markdown",
   "id": "5162c59e-ebf6-4300-9d01-c20207260782",
   "metadata": {},
   "source": [
    "Tentar fazer login na api e baixar as informações"
   ]
  },
  {
   "cell_type": "code",
   "execution_count": 8,
   "id": "64b06bd9-0f1c-45ef-8464-cd7513ae09d4",
   "metadata": {},
   "outputs": [
    {
     "name": "stdout",
     "output_type": "stream",
     "text": [
      "10 scenes found.\n"
     ]
    }
   ],
   "source": [
    "api = API(_login, _senha)\n",
    "scenes = api.search(\n",
    "    dataset='landsat_tm_c2_l1',\n",
    "    bbox = bbox_of_interest,\n",
    "    start_date='1995-01-01',\n",
    "    end_date='1995-10-01',\n",
    "    max_cloud_cover=100\n",
    ")\n",
    "print(f\"{len(scenes)} scenes found.\")\n",
    "api.logout()"
   ]
  },
  {
   "cell_type": "code",
   "execution_count": 9,
   "id": "ec7f4461-78e6-4d1a-9d8f-6025955e21d7",
   "metadata": {},
   "outputs": [
    {
     "name": "stdout",
     "output_type": "stream",
     "text": [
      "{'cloud_cover': 32, 'entity_id': 'LT52170671995229CUB00', 'display_id': 'LT05_L1TP_217067_19950817_20200912_02_T1', 'ordering_id': 'None', 'landsat_product_id': 'LT05_L1TP_217067_19950817_20200912_02_T1', 'landsat_scene_id': 'LT52170671995229CUB00', 'acquisition_date': datetime.datetime(1995, 8, 17, 0, 0), 'collection_category': datetime.datetime(2023, 12, 1, 0, 0), 'collection_number': 2, 'sensor_mode': 'SAM', 'wrs_path': 217, 'wrs_row': 67, 'full_partial_scene': 'FULL', 'date_product_generated': datetime.datetime(2020, 9, 12, 0, 0), 'start_time': datetime.datetime(1995, 8, 17, 11, 51, 30, 703250), 'stop_time': datetime.datetime(1995, 8, 17, 11, 51, 57, 681880), 'station_id': 'CUB', 'day-night_indicator': 'DAY', 'ground_control_points_model': 262, 'land_cloud_cover': 32.0, 'scene_cloud_cover': 32.0, 'ground_control_points_version': 5, 'geometric_rmse_model': 4.733, 'geometric_rmse_model_x': 3.204, 'geometric_rmse_model_y': 3.484, 'sensor_anomalies': 'NONE', 'data_anomaly': None, 'image_quality': 9, 'gain_change': 'N', 'processing_software_version': 'LPGS_15.3.1c', 'sun_elevation': 40.73063191, 'sun_azimuth': 62.21464095, 'data_type': 'TM_L1TP', 'sensor_id': 'TM', 'satellite': 5, 'ephemeris_type': 'DEFINITIVE', 'reflective_lines': 6951, 'reflective_samples': 7781, 'thermal_lines': 6951, 'thermal_samples': 7781, 'product_map_projection': 'UTM', 'utm_zone': 24, 'datum': 'WGS84', 'ellipsoid': 'WGS84', 'grid_cell_size_reflective': 30.0, 'grid_cell_size_thermal': 30.0, 'calibration_parameter_file': 'LT05CPF_19950701_19950930_02.01', 'scene_center_latitude': -10.11369, 'scene_center_longitude': -40.4804, 'corner_upper_left_latitude': -9.19608, 'corner_upper_left_longitude': -41.14067, 'corner_upper_right_latitude': -9.43838, 'corner_upper_right_longitude': -39.47445, 'corner_lower_left_latitude': -10.78623, 'corner_lower_left_longitude': -41.49029, 'corner_lower_right_latitude': -11.02968, 'corner_lower_right_longitude': -39.81608, 'has_customized_metadata': None, 'options': {'bulk': True, 'download': True, 'order': False, 'secondary': False}, 'selected': {'bulk': False, 'compare': False, 'order': False}, 'spatial_bounds': (-41.49029, -11.02968, -39.47445, -9.19608), 'spatial_coverage': <shapely.geometry.polygon.Polygon object at 0x7f084295ca90>, 'temporal_coverage': [datetime.datetime(1995, 8, 17, 0, 0), datetime.datetime(1995, 8, 17, 0, 0)], 'publish_date': datetime.datetime(2022, 6, 22, 19, 23, 13, tzinfo=tzoffset(None, -18000))}\n"
     ]
    }
   ],
   "source": [
    "print(scenes[0])"
   ]
  },
  {
   "cell_type": "code",
   "execution_count": 10,
   "id": "91b362b4-2ddb-4f78-8b0d-6c9acf3edb47",
   "metadata": {},
   "outputs": [
    {
     "ename": "TypeError",
     "evalue": "download() got an unexpected keyword argument 'show_progress'",
     "output_type": "error",
     "traceback": [
      "\u001b[0;31m---------------------------------------------------------------------------\u001b[0m",
      "\u001b[0;31mTypeError\u001b[0m                                 Traceback (most recent call last)",
      "Cell \u001b[0;32mIn[10], line 3\u001b[0m\n\u001b[1;32m      1\u001b[0m ee \u001b[38;5;241m=\u001b[39m EarthExplorer(_login, _senha)\n\u001b[0;32m----> 3\u001b[0m \u001b[43mee\u001b[49m\u001b[38;5;241;43m.\u001b[39;49m\u001b[43mdownload\u001b[49m\u001b[43m(\u001b[49m\u001b[38;5;124;43m'\u001b[39;49m\u001b[38;5;124;43mLT51960471995178MPS00\u001b[39;49m\u001b[38;5;124;43m'\u001b[39;49m\u001b[43m,\u001b[49m\u001b[43m \u001b[49m\u001b[43moutput_dir\u001b[49m\u001b[38;5;241;43m=\u001b[39;49m\u001b[38;5;124;43m'\u001b[39;49m\u001b[38;5;124;43m./data\u001b[39;49m\u001b[38;5;124;43m'\u001b[39;49m\u001b[43m,\u001b[49m\u001b[43m \u001b[49m\u001b[43mshow_progress\u001b[49m\u001b[38;5;241;43m=\u001b[39;49m\u001b[38;5;28;43;01mTrue\u001b[39;49;00m\u001b[43m)\u001b[49m\n\u001b[1;32m      5\u001b[0m ee\u001b[38;5;241m.\u001b[39mlogout()\n",
      "\u001b[0;31mTypeError\u001b[0m: download() got an unexpected keyword argument 'show_progress'"
     ]
    }
   ],
   "source": [
    "ee = EarthExplorer(_login, _senha)\n",
    "\n",
    "ee.download('LT51960471995178MPS00', output_dir='./data', show_progress=True)\n",
    "\n",
    "ee.logout()"
   ]
  },
  {
   "cell_type": "code",
   "execution_count": null,
   "id": "be284c00-8100-4bc7-ad67-cf59f3219ea5",
   "metadata": {},
   "outputs": [],
   "source": []
  }
 ],
 "metadata": {
  "kernelspec": {
   "display_name": "Python 3 (ipykernel)",
   "language": "python",
   "name": "python3"
  },
  "language_info": {
   "codemirror_mode": {
    "name": "ipython",
    "version": 3
   },
   "file_extension": ".py",
   "mimetype": "text/x-python",
   "name": "python",
   "nbconvert_exporter": "python",
   "pygments_lexer": "ipython3",
   "version": "3.9.18"
  }
 },
 "nbformat": 4,
 "nbformat_minor": 5
}
