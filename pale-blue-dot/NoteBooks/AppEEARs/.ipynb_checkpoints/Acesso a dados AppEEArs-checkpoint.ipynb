{
 "cells": [
  {
   "cell_type": "markdown",
   "id": "1d9afdea-e5e8-449c-9baa-8162f43ceb71",
   "metadata": {},
   "source": [
    "# Importações\n",
    "## Referencias:\n",
    "https://git.earthdata.nasa.gov/projects/LPDUR/repos/appeears-api-getting-started/browse/Scripts/AppEEARS_API_Area.ipynb\n",
    "\n",
    "https://lpdaac.usgs.gov/resources/e-learning/getting-started-with-the-a%CF%81%CF%81eears-api-submitting-and-downloading-an-area-request/\n",
    "\n",
    "https://github.com/nasa/AppEEARS-Data-Resources/blob/main/Python/tutorials/COG_AppEEARS_S3_Direct_Access.ipynb\n",
    "\n",
    "https://drivendata.co/blog/public-eo-data-sources"
   ]
  },
  {
   "cell_type": "code",
   "execution_count": 1,
   "id": "db286ef8-f89f-4cf1-9101-b5220dec2577",
   "metadata": {},
   "outputs": [],
   "source": [
    "#Carregar informações de senha e login\n",
    "%run \"dataLogin.ipynb\"\n",
    "#(_usuario,_email,_senha)\n",
    "import requests\n",
    "import getpass, pprint, time, os, cgi, json\n",
    "import geopandas as gpd\n",
    "import rich.table\n",
    "import datetime\n",
    "import matplotlib.pyplot as plt\n",
    "import pandas as pd\n",
    "import math\n",
    "from shapely.geometry import Polygon\n",
    "import folium\n",
    "import ipywidgets as widgets\n",
    "import pyperclip\n",
    "from tqdm import tqdm\n",
    "_inicio = time.time()"
   ]
  },
  {
   "cell_type": "markdown",
   "id": "bab2e119-0f13-4a7d-8dc0-8ed34c4f4c03",
   "metadata": {},
   "source": [
    "# Definições de variaveis\n",
    "![imagem landDates](landDates.png)"
   ]
  },
  {
   "cell_type": "code",
   "execution_count": 2,
   "id": "f2650369-37a1-45b5-9b3c-66633fc5d1c4",
   "metadata": {},
   "outputs": [],
   "source": [
    "inDir = 'cache_data'                    \n",
    "if not os.path.exists(inDir):\n",
    "    os.makedirs(inDir)\n",
    "api = 'https://appeears.earthdatacloud.nasa.gov/api/'  \n",
    "user = _usuario\n",
    "password = _senha\n",
    "produto_usado = \"L07.002\"\n",
    "bandas_usadas = ['SR_B1','SR_B2','SR_B3','SR_B4']\n",
    "_posMaps = [-9.7083, -39.8532]\n",
    "_lado = 5 #Tamanho do lado do quadrado em km\n",
    "_mes_de_referencia = 1\n",
    "_ano_inicial = 2010\n",
    "_ano_final = 2015\n",
    "_NomeLocal = \"Poço de Fora, Curaçá - BA\"\n",
    "_filtroNuvem = 10 #Excluir tudo que tiver mais que 10% de nuvens"
   ]
  },
  {
   "cell_type": "markdown",
   "id": "098a1ba7-18f2-48e4-9977-9c5842a94963",
   "metadata": {},
   "source": [
    "# Criar metodos que serão uteis"
   ]
  },
  {
   "cell_type": "code",
   "execution_count": 3,
   "id": "9be80dab-5981-41b1-971b-6e8efa618539",
   "metadata": {},
   "outputs": [],
   "source": [
    "def kmToGrau(km, valor):\n",
    "    return valor + (km / (111.32 * math.cos(math.radians(valor))))\n",
    "def calcular_vertices(lat, lon):\n",
    "    metade = _lado / 2\n",
    "    lat1 = kmToGrau(-metade, lat)\n",
    "    lon1 = kmToGrau(-metade, lon)\n",
    "    lat2 = kmToGrau(-metade, lat)\n",
    "    lon2 = kmToGrau(metade, lon)\n",
    "    lat3 = kmToGrau(metade, lat)\n",
    "    lon3 = kmToGrau(metade, lon)\n",
    "    lat4 = kmToGrau(metade, lat)\n",
    "    lon4 = kmToGrau(-metade, lon)\n",
    "    return [[lat1, lon1], [lat2, lon2], [lat3, lon3], [lat4, lon4]]\n",
    "mes_string = \"{:02d}\".format(_mes_de_referencia)\n",
    "def dias_mes(mes, ano):\n",
    "  data = datetime.date(ano, mes, 1)\n",
    "  proximo_mes = data.replace(month=data.month % 12 + 1)\n",
    "  ultimo_dia = proximo_mes - datetime.timedelta(days=1)\n",
    "  return ultimo_dia.day\n",
    "_intervalo_de_tempo = []\n",
    "for i in range(_ano_inicial,_ano_final+1,1):\n",
    "    dia_final = dias_mes(_mes_de_referencia, i)\n",
    "    _intervalo_de_tempo.append([f\"{mes_string}-01-{i}\", f\"{mes_string}-{dia_final}-{i}\"])\n",
    "def downloadinfo(file_url, name):\n",
    "    response = requests.get(file_url, stream=True)\n",
    "    file_size = int(response.headers.get(\"content-length\", 0))\n",
    "    progress = tqdm.tqdm(total=file_size, unit=\"B\", unit_scale=True)\n",
    "    with open(name, \"wb\") as f:\n",
    "        for chunk in response.iter_content(chunk_size=1024):\n",
    "            f.write(chunk)\n",
    "            progress.update(len(chunk))\n",
    "    progress.close()"
   ]
  },
  {
   "cell_type": "markdown",
   "id": "d3cebb27-a8d5-464e-8206-2f3878b9bd47",
   "metadata": {},
   "source": [
    "# Tentar fazer login e salvar o token"
   ]
  },
  {
   "cell_type": "code",
   "execution_count": 4,
   "id": "9d8c53ee-e3f9-48cd-ab3f-9a33523f7914",
   "metadata": {},
   "outputs": [
    {
     "name": "stdout",
     "output_type": "stream",
     "text": [
      "{'token_type': 'Bearer', 'token': 'VkZRE_ODFKATKoFhubqslyR5F2jhL10Itp0_GPoVuK2KbbHP_7TartmlQv062z0f1mGjqAdkTyNSc0bNxt5DoA', 'expiration': '2023-12-29T20:11:46Z'} VkZRE_ODFKATKoFhubqslyR5F2jhL10Itp0_GPoVuK2KbbHP_7TartmlQv062z0f1mGjqAdkTyNSc0bNxt5DoA\n"
     ]
    }
   ],
   "source": [
    "token_response = requests.post('{}login'.format(api), auth=(user, password)).json()\n",
    "token = token_response['token']                 \n",
    "head = {'Authorization': 'Bearer {}'.format(token)}\n",
    "print(token_response, token)"
   ]
  },
  {
   "cell_type": "markdown",
   "id": "6de0746e-f224-49be-bdb5-aedd7b534141",
   "metadata": {},
   "source": [
    "Tentar se conectar ao servidor e receber o numero de produtos que há disponivel "
   ]
  },
  {
   "cell_type": "code",
   "execution_count": 5,
   "id": "182f3913-5210-4194-be9f-2433d7ba2070",
   "metadata": {},
   "outputs": [
    {
     "name": "stdout",
     "output_type": "stream",
     "text": [
      "AρρEEARS atualmente oferece suporte a 120 produtos.\n"
     ]
    },
    {
     "data": {
      "text/html": [
       "<pre style=\"white-space:pre;overflow-x:auto;line-height:normal;font-family:Menlo,'DejaVu Sans Mono',consolas,'Courier New',monospace\"><span style=\"font-style: italic\">                                               Lista com os produtos                                               </span>\n",
       "┏━━━━━━━━━━━━━━━━━━━━━━━━━━━┳━━━━━━━━━━━━━━━━┳━━━━━━━━━━━━━━━━━━━┳━━━━━━━━━━━━━━┳━━━━━━━━━━━━━━━━━━━━━━━━━━━━━━━━━┓\n",
       "┃<span style=\"font-weight: bold\"> Produto                   </span>┃<span style=\"font-weight: bold\"> Produto        </span>┃<span style=\"font-weight: bold\"> Produto           </span>┃<span style=\"font-weight: bold\"> Produto      </span>┃<span style=\"font-weight: bold\"> Produto                         </span>┃\n",
       "┡━━━━━━━━━━━━━━━━━━━━━━━━━━━╇━━━━━━━━━━━━━━━━╇━━━━━━━━━━━━━━━━━━━╇━━━━━━━━━━━━━━╇━━━━━━━━━━━━━━━━━━━━━━━━━━━━━━━━━┩\n",
       "│ GPW_DataQualityInd.411    │ MOD14A2.061    │ MYD15A2H.061      │ VNP09H1.001  │ DAYMET.004                      │\n",
       "│ GPW_UN_Adj_PopCount.411   │ MOD15A2H.061   │ MYD16A2.061       │ VNP09A1.001  │ ECO2LSTE.001                    │\n",
       "│ GPW_UN_Adj_PopDensity.411 │ MOD16A2.061    │ MYD16A2GF.061     │ VNP09GA.001  │ ECO2CLD.001                     │\n",
       "│ GPW_Basic_Demog_Char.411  │ MOD16A2GF.061  │ MYD16A3GF.061     │ VNP13A1.001  │ ECO3ETPTJPL.001                 │\n",
       "│ MCD12Q1.061               │ MOD16A3GF.061  │ MYD17A2H.061      │ VNP13A2.001  │ ECO3ANCQA.001                   │\n",
       "│ MCD12Q2.061               │ MOD17A2H.061   │ MYD17A2HGF.061    │ VNP13A3.001  │ ECO4ESIPTJPL.001                │\n",
       "│ MCD15A2H.061              │ MOD17A2HGF.061 │ MYD17A3HGF.061    │ VNP14A1.001  │ ECO4WUE.001                     │\n",
       "│ MCD15A3H.061              │ MOD17A3HGF.061 │ MYD21A1D.061      │ VNP15A2H.001 │ ECO1BGEO.001                    │\n",
       "│ MCD43A1.061               │ MOD21A1D.061   │ MYD21A1N.061      │ VNP21A1D.001 │ ECO1BMAPRAD.001                 │\n",
       "│ MCD43A2.061               │ MOD21A1N.061   │ MYD21A2.061       │ VNP21A1N.001 │ ECO3ETALEXI.001                 │\n",
       "│ MCD43A3.061               │ MOD21A2.061    │ NASADEM_NC.001    │ VNP21A2.001  │ ECO4ESIALEXI.001                │\n",
       "│ MCD43A4.061               │ MOD44W.006     │ NASADEM_NUMNC.001 │ VNP22Q2.001  │ ECO_L1B_GEO.002                 │\n",
       "│ MCD64A1.061               │ MYD09A1.061    │ SPL3SMP_E.005     │ VNP43IA1.001 │ ECO_L2_CLOUD.002                │\n",
       "│ MOD09A1.061               │ MYD09GA.061    │ SPL3SMP.008       │ VNP43IA2.001 │ ECO_L2_LSTE.002                 │\n",
       "│ MOD09GA.061               │ MYD09GQ.061    │ SPL4CMDL.006      │ VNP43IA3.001 │ ECO_L2T_LSTE.002                │\n",
       "│ MOD09GQ.061               │ MYD09Q1.061    │ SPL4SMGP.006      │ VNP43IA4.001 │ HLSS30.020                      │\n",
       "│ MOD09Q1.061               │ MYD10A1.061    │ SPL3FTP.003       │ VNP43MA1.001 │ HLSL30.020                      │\n",
       "│ MOD10A1.061               │ MYD10A2.061    │ SRTMGL1_NC.003    │ VNP43MA2.001 │ GEOLST4KHR.002                  │\n",
       "│ MOD10A2.061               │ MYD11A1.061    │ SRTMGL1_NUMNC.003 │ VNP43MA3.001 │ WaterBalance_Daily_Historical_… │\n",
       "│ MOD11A1.061               │ MYD11A2.061    │ SRTMGL3_NC.003    │ VNP43MA4.001 │ WaterBalance_Monthly_Historica… │\n",
       "│ MOD11A2.061               │ MYD13A1.061    │ SRTMGL3_NUMNC.003 │ L04.002      │                                 │\n",
       "│ MOD13A1.061               │ MYD13A2.061    │ ASTGTM_NC.003     │ L05.002      │                                 │\n",
       "│ MOD13A2.061               │ MYD13A3.061    │ ASTGTM_NUMNC.003  │ L07.002      │                                 │\n",
       "│ MOD13A3.061               │ MYD13Q1.061    │ ASTWBD_ATTNC.001  │ L08.002      │                                 │\n",
       "│ MOD13Q1.061               │ MYD14A2.061    │ ASTWBD_NC.001     │ L09.002      │                                 │\n",
       "└───────────────────────────┴────────────────┴───────────────────┴──────────────┴─────────────────────────────────┘\n",
       "</pre>\n"
      ],
      "text/plain": [
       "\u001b[3m                                               Lista com os produtos                                               \u001b[0m\n",
       "┏━━━━━━━━━━━━━━━━━━━━━━━━━━━┳━━━━━━━━━━━━━━━━┳━━━━━━━━━━━━━━━━━━━┳━━━━━━━━━━━━━━┳━━━━━━━━━━━━━━━━━━━━━━━━━━━━━━━━━┓\n",
       "┃\u001b[1m \u001b[0m\u001b[1mProduto                  \u001b[0m\u001b[1m \u001b[0m┃\u001b[1m \u001b[0m\u001b[1mProduto       \u001b[0m\u001b[1m \u001b[0m┃\u001b[1m \u001b[0m\u001b[1mProduto          \u001b[0m\u001b[1m \u001b[0m┃\u001b[1m \u001b[0m\u001b[1mProduto     \u001b[0m\u001b[1m \u001b[0m┃\u001b[1m \u001b[0m\u001b[1mProduto                        \u001b[0m\u001b[1m \u001b[0m┃\n",
       "┡━━━━━━━━━━━━━━━━━━━━━━━━━━━╇━━━━━━━━━━━━━━━━╇━━━━━━━━━━━━━━━━━━━╇━━━━━━━━━━━━━━╇━━━━━━━━━━━━━━━━━━━━━━━━━━━━━━━━━┩\n",
       "│ GPW_DataQualityInd.411    │ MOD14A2.061    │ MYD15A2H.061      │ VNP09H1.001  │ DAYMET.004                      │\n",
       "│ GPW_UN_Adj_PopCount.411   │ MOD15A2H.061   │ MYD16A2.061       │ VNP09A1.001  │ ECO2LSTE.001                    │\n",
       "│ GPW_UN_Adj_PopDensity.411 │ MOD16A2.061    │ MYD16A2GF.061     │ VNP09GA.001  │ ECO2CLD.001                     │\n",
       "│ GPW_Basic_Demog_Char.411  │ MOD16A2GF.061  │ MYD16A3GF.061     │ VNP13A1.001  │ ECO3ETPTJPL.001                 │\n",
       "│ MCD12Q1.061               │ MOD16A3GF.061  │ MYD17A2H.061      │ VNP13A2.001  │ ECO3ANCQA.001                   │\n",
       "│ MCD12Q2.061               │ MOD17A2H.061   │ MYD17A2HGF.061    │ VNP13A3.001  │ ECO4ESIPTJPL.001                │\n",
       "│ MCD15A2H.061              │ MOD17A2HGF.061 │ MYD17A3HGF.061    │ VNP14A1.001  │ ECO4WUE.001                     │\n",
       "│ MCD15A3H.061              │ MOD17A3HGF.061 │ MYD21A1D.061      │ VNP15A2H.001 │ ECO1BGEO.001                    │\n",
       "│ MCD43A1.061               │ MOD21A1D.061   │ MYD21A1N.061      │ VNP21A1D.001 │ ECO1BMAPRAD.001                 │\n",
       "│ MCD43A2.061               │ MOD21A1N.061   │ MYD21A2.061       │ VNP21A1N.001 │ ECO3ETALEXI.001                 │\n",
       "│ MCD43A3.061               │ MOD21A2.061    │ NASADEM_NC.001    │ VNP21A2.001  │ ECO4ESIALEXI.001                │\n",
       "│ MCD43A4.061               │ MOD44W.006     │ NASADEM_NUMNC.001 │ VNP22Q2.001  │ ECO_L1B_GEO.002                 │\n",
       "│ MCD64A1.061               │ MYD09A1.061    │ SPL3SMP_E.005     │ VNP43IA1.001 │ ECO_L2_CLOUD.002                │\n",
       "│ MOD09A1.061               │ MYD09GA.061    │ SPL3SMP.008       │ VNP43IA2.001 │ ECO_L2_LSTE.002                 │\n",
       "│ MOD09GA.061               │ MYD09GQ.061    │ SPL4CMDL.006      │ VNP43IA3.001 │ ECO_L2T_LSTE.002                │\n",
       "│ MOD09GQ.061               │ MYD09Q1.061    │ SPL4SMGP.006      │ VNP43IA4.001 │ HLSS30.020                      │\n",
       "│ MOD09Q1.061               │ MYD10A1.061    │ SPL3FTP.003       │ VNP43MA1.001 │ HLSL30.020                      │\n",
       "│ MOD10A1.061               │ MYD10A2.061    │ SRTMGL1_NC.003    │ VNP43MA2.001 │ GEOLST4KHR.002                  │\n",
       "│ MOD10A2.061               │ MYD11A1.061    │ SRTMGL1_NUMNC.003 │ VNP43MA3.001 │ WaterBalance_Daily_Historical_… │\n",
       "│ MOD11A1.061               │ MYD11A2.061    │ SRTMGL3_NC.003    │ VNP43MA4.001 │ WaterBalance_Monthly_Historica… │\n",
       "│ MOD11A2.061               │ MYD13A1.061    │ SRTMGL3_NUMNC.003 │ L04.002      │                                 │\n",
       "│ MOD13A1.061               │ MYD13A2.061    │ ASTGTM_NC.003     │ L05.002      │                                 │\n",
       "│ MOD13A2.061               │ MYD13A3.061    │ ASTGTM_NUMNC.003  │ L07.002      │                                 │\n",
       "│ MOD13A3.061               │ MYD13Q1.061    │ ASTWBD_ATTNC.001  │ L08.002      │                                 │\n",
       "│ MOD13Q1.061               │ MYD14A2.061    │ ASTWBD_NC.001     │ L09.002      │                                 │\n",
       "└───────────────────────────┴────────────────┴───────────────────┴──────────────┴─────────────────────────────────┘\n"
      ]
     },
     "execution_count": 5,
     "metadata": {},
     "output_type": "execute_result"
    }
   ],
   "source": [
    "product_response = requests.get('{}product'.format(api)).json()\n",
    "print('AρρEEARS atualmente oferece suporte a {} produtos.'.format(len(product_response)))\n",
    "table = rich.table.Table(title=\"Lista com os produtos\")\n",
    "table.add_column(\"Produto\")\n",
    "cont = 0\n",
    "tabela_array = []\n",
    "tabela_temp = []\n",
    "for produto in product_response:\n",
    "    cont += 1\n",
    "    tabela_temp.append(produto['ProductAndVersion'])\n",
    "    if cont >=25:\n",
    "        cont = 0\n",
    "        tabela_array.append(tabela_temp)\n",
    "        tabela_temp = []\n",
    "        table.add_column(\"Produto\")\n",
    "tabela_array.append(tabela_temp)    \n",
    "for i in range(25):\n",
    "    if len(tabela_array[4]) > i:\n",
    "        table.add_row(tabela_array[0][i],tabela_array[1][i],tabela_array[2][i],tabela_array[3][i],tabela_array[4][i])\n",
    "    else:\n",
    "        table.add_row(tabela_array[0][i],tabela_array[1][i],tabela_array[2][i],tabela_array[3][i],\"\")\n",
    "products = {p['ProductAndVersion']: p for p in product_response} #Criar um dicionario cuja chave é o nome do produto\n",
    "table"
   ]
  },
  {
   "cell_type": "markdown",
   "id": "c2969553-41f7-4447-944c-305ac0186700",
   "metadata": {},
   "source": [
    "# Imprimir as informações do produto"
   ]
  },
  {
   "cell_type": "code",
   "execution_count": 6,
   "id": "a2789254-f630-4b05-9e95-5977a10289e3",
   "metadata": {},
   "outputs": [
    {
     "data": {
      "text/plain": [
       "{'Product': 'L07',\n",
       " 'Platform': 'Landsat ARD',\n",
       " 'Description': 'Landsat Collection 2 ARD Surface Reflectance - Landsat 7',\n",
       " 'RasterType': 'Tile',\n",
       " 'Resolution': '30m',\n",
       " 'TemporalGranularity': '16 day',\n",
       " 'Version': '002',\n",
       " 'Available': True,\n",
       " 'DocLink': 'https://www.usgs.gov/landsat-missions/landsat-collection-2-us-analysis-ready-data',\n",
       " 'Source': 'USGS',\n",
       " 'TemporalExtentStart': '1999-06-29',\n",
       " 'TemporalExtentEnd': '2022-04-06',\n",
       " 'Deleted': False,\n",
       " 'DOI': '10.5066/P960F8OC',\n",
       " 'Info': {'provider_id': 'landsat_prod',\n",
       "  'platform': 'LANDSAT_7',\n",
       "  'extension': 'tif'},\n",
       " 'ProductAndVersion': 'L07.002'}"
      ]
     },
     "execution_count": 6,
     "metadata": {},
     "output_type": "execute_result"
    }
   ],
   "source": [
    "products[produto_usado]"
   ]
  },
  {
   "cell_type": "markdown",
   "id": "93cd15ea-d22a-4a7e-950d-a5d1ab6d2b19",
   "metadata": {},
   "source": [
    "Tentar coletar as informações de todas as camadas do disponiveis no produto escolhido"
   ]
  },
  {
   "cell_type": "code",
   "execution_count": 7,
   "id": "ea57754d-2b2a-4e7e-ba91-ec00eef27c20",
   "metadata": {},
   "outputs": [
    {
     "data": {
      "text/plain": [
       "['QA_LINEAGE',\n",
       " 'QA_PIXEL',\n",
       " 'QA_RADSAT',\n",
       " 'SR_ATMOS_OPACITY',\n",
       " 'SR_B1',\n",
       " 'SR_B2',\n",
       " 'SR_B3',\n",
       " 'SR_B4',\n",
       " 'SR_B5',\n",
       " 'SR_B7',\n",
       " 'SR_CLOUD_QA']"
      ]
     },
     "execution_count": 7,
     "metadata": {},
     "output_type": "execute_result"
    }
   ],
   "source": [
    "lst_response = requests.get('{}product/{}'.format(api, produto_usado)).json()  \n",
    "list(lst_response.keys())"
   ]
  },
  {
   "cell_type": "markdown",
   "id": "30f6e5a6-c127-4510-b199-bdf0e7ca41f0",
   "metadata": {},
   "source": [
    "Criar uma lista com todas as camadas que serão solicitadas"
   ]
  },
  {
   "cell_type": "code",
   "execution_count": 8,
   "id": "88a2c770-3302-4ad2-addf-19f53498ad4a",
   "metadata": {},
   "outputs": [
    {
     "data": {
      "text/plain": [
       "[{'layer': 'SR_B1', 'product': 'L07.002'},\n",
       " {'layer': 'SR_B2', 'product': 'L07.002'},\n",
       " {'layer': 'SR_B3', 'product': 'L07.002'},\n",
       " {'layer': 'SR_B4', 'product': 'L07.002'}]"
      ]
     },
     "execution_count": 8,
     "metadata": {},
     "output_type": "execute_result"
    }
   ],
   "source": [
    "prodLayer = []\n",
    "for l in lst_response.keys():\n",
    "    if l in bandas_usadas:\n",
    "        prodLayer.append({\n",
    "                \"layer\": l,\n",
    "                \"product\": produto_usado\n",
    "              })\n",
    "prodLayer"
   ]
  },
  {
   "cell_type": "markdown",
   "id": "20a66c02-859a-48e4-835d-619b68612edf",
   "metadata": {},
   "source": [
    "Criar uma projeção dos resultados"
   ]
  },
  {
   "cell_type": "code",
   "execution_count": 9,
   "id": "1b797376-05f3-450e-bf68-90695623d7ed",
   "metadata": {},
   "outputs": [
    {
     "data": {
      "text/plain": [
       "dict_keys(['native', 'geographic', 'sinu_modis', 'albers_weld_alaska', 'albers_weld_conus', 'albers_ard_alaska', 'albers_ard_conus', 'albers_ard_hawaii', 'easegrid_2_global', 'easegrid_2_north'])"
      ]
     },
     "execution_count": 9,
     "metadata": {},
     "output_type": "execute_result"
    }
   ],
   "source": [
    "projections = requests.get('{}spatial/proj'.format(api)).json() \n",
    "projs = {}                                  # Create an empty dictionary\n",
    "for p in projections: projs[p['Name']] = p\n",
    "projs.keys() "
   ]
  },
  {
   "cell_type": "markdown",
   "id": "05d2936f-c9b0-410b-ba3f-7002a41ae4e3",
   "metadata": {},
   "source": [
    "# Exibição primaria dos resultados\n",
    "As informações de coordenadas podem ser melhor visualizadas no seguinte site:\n",
    "\n",
    "https://geojson.io/\n",
    "\n",
    "Nele foi feito a seguinte demarcação do mapa para ser utilizado:"
   ]
  },
  {
   "cell_type": "code",
   "execution_count": 10,
   "id": "0edd63b2-fabc-48c7-a1eb-e7318b74fcbc",
   "metadata": {},
   "outputs": [
    {
     "name": "stdout",
     "output_type": "stream",
     "text": [
      "https://geojson.io/#map=8/-9.708/-39.853\n"
     ]
    }
   ],
   "source": [
    "link = \"https://geojson.io/#map=8/\"+str(round(_posMaps[0],3))+\"/\"+str(round(_posMaps[1],3))\n",
    "print(link)"
   ]
  },
  {
   "cell_type": "markdown",
   "id": "9ed896e4-1c62-4ad7-9f84-58262e5a7cd8",
   "metadata": {},
   "source": [
    "Delimitar uma area no mapa que será usada para fazer a busca por imagens, para isso criar um quadrado usando essas posições como centro"
   ]
  },
  {
   "cell_type": "code",
   "execution_count": 11,
   "id": "8c3b9a5c-6694-4bef-8fe5-d11223fc52c0",
   "metadata": {},
   "outputs": [
    {
     "name": "stdout",
     "output_type": "stream",
     "text": [
      "[[-39.88245375253269, -9.731084068863375], [-39.88245375253269, -9.685515931136624], [-39.82394624746731, -9.685515931136624], [-39.82394624746731, -9.731084068863375]]\n"
     ]
    }
   ],
   "source": [
    "quadrado = calcular_vertices(_posMaps[1],_posMaps[0])\n",
    "print(quadrado)"
   ]
  },
  {
   "cell_type": "markdown",
   "id": "e26e463d-e323-475b-8063-9072b78e17a0",
   "metadata": {},
   "source": [
    "Criar o GEOJson com essas coordenadas"
   ]
  },
  {
   "cell_type": "code",
   "execution_count": 12,
   "id": "87d01740-aeb4-42f4-ba4c-798bce755447",
   "metadata": {},
   "outputs": [
    {
     "name": "stdout",
     "output_type": "stream",
     "text": [
      "{\n",
      "  \"type\": \"FeatureCollection\",\n",
      "  \"features\": [\n",
      "    {\n",
      "      \"type\": \"Feature\",\n",
      "      \"properties\": {},\n",
      "      \"geometry\": {\n",
      "        \"coordinates\": [\n",
      "          [\n",
      "            [\n",
      "              -39.88245375253269,\n",
      "              -9.731084068863375\n",
      "            ],\n",
      "            [\n",
      "              -39.88245375253269,\n",
      "              -9.685515931136624\n",
      "            ],\n",
      "            [\n",
      "              -39.82394624746731,\n",
      "              -9.685515931136624\n",
      "            ],\n",
      "            [\n",
      "              -39.82394624746731,\n",
      "              -9.731084068863375\n",
      "            ],\n",
      "            [\n",
      "              -39.88245375253269,\n",
      "              -9.731084068863375\n",
      "            ]\n",
      "          ]\n",
      "        ],\n",
      "        \"type\": \"Polygon\"\n",
      "      }\n",
      "    }\n",
      "  ]\n",
      "}\n"
     ]
    },
    {
     "data": {
      "application/vnd.jupyter.widget-view+json": {
       "model_id": "a7c519236190403ea33d7344143c6232",
       "version_major": 2,
       "version_minor": 0
      },
      "text/plain": [
       "Button(description='Copiar GeJson', style=ButtonStyle())"
      ]
     },
     "execution_count": 12,
     "metadata": {},
     "output_type": "execute_result"
    }
   ],
   "source": [
    "data_Json = {\n",
    "  \"type\": \"FeatureCollection\",\n",
    "  \"features\": [\n",
    "    {\n",
    "      \"type\": \"Feature\",\n",
    "      \"properties\": {},\n",
    "      \"geometry\": {\n",
    "        \"coordinates\": [\n",
    "          [\n",
    "            quadrado[0],\n",
    "            quadrado[1],\n",
    "            quadrado[2],\n",
    "            quadrado[3],\n",
    "            quadrado[0]\n",
    "          ]\n",
    "        ],\n",
    "        \"type\": \"Polygon\"\n",
    "      }\n",
    "    }\n",
    "  ]\n",
    "}\n",
    "json_string = json.dumps(data_Json, indent=2)\n",
    "print(json_string)\n",
    "button = widgets.Button(description=\"Copiar GeJson\")\n",
    "def on_button_clicked(b):\n",
    "    pyperclip.copy(json_string)\n",
    "button.on_click(on_button_clicked)\n",
    "button"
   ]
  },
  {
   "cell_type": "code",
   "execution_count": 13,
   "id": "0aa98122-a41a-469b-8379-29aa7a861437",
   "metadata": {},
   "outputs": [
    {
     "data": {
      "text/html": [
       "<div style=\"width:100%;\"><div style=\"position:relative;width:100%;height:0;padding-bottom:60%;\"><span style=\"color:#565656\">Make this Notebook Trusted to load map: File -> Trust Notebook</span><iframe srcdoc=\"&lt;!DOCTYPE html&gt;\n",
       "&lt;html&gt;\n",
       "&lt;head&gt;\n",
       "    \n",
       "    &lt;meta http-equiv=&quot;content-type&quot; content=&quot;text/html; charset=UTF-8&quot; /&gt;\n",
       "    \n",
       "        &lt;script&gt;\n",
       "            L_NO_TOUCH = false;\n",
       "            L_DISABLE_3D = false;\n",
       "        &lt;/script&gt;\n",
       "    \n",
       "    &lt;style&gt;html, body {width: 100%;height: 100%;margin: 0;padding: 0;}&lt;/style&gt;\n",
       "    &lt;style&gt;#map {position:absolute;top:0;bottom:0;right:0;left:0;}&lt;/style&gt;\n",
       "    &lt;script src=&quot;https://cdn.jsdelivr.net/npm/leaflet@1.9.3/dist/leaflet.js&quot;&gt;&lt;/script&gt;\n",
       "    &lt;script src=&quot;https://code.jquery.com/jquery-3.7.1.min.js&quot;&gt;&lt;/script&gt;\n",
       "    &lt;script src=&quot;https://cdn.jsdelivr.net/npm/bootstrap@5.2.2/dist/js/bootstrap.bundle.min.js&quot;&gt;&lt;/script&gt;\n",
       "    &lt;script src=&quot;https://cdnjs.cloudflare.com/ajax/libs/Leaflet.awesome-markers/2.0.2/leaflet.awesome-markers.js&quot;&gt;&lt;/script&gt;\n",
       "    &lt;link rel=&quot;stylesheet&quot; href=&quot;https://cdn.jsdelivr.net/npm/leaflet@1.9.3/dist/leaflet.css&quot;/&gt;\n",
       "    &lt;link rel=&quot;stylesheet&quot; href=&quot;https://cdn.jsdelivr.net/npm/bootstrap@5.2.2/dist/css/bootstrap.min.css&quot;/&gt;\n",
       "    &lt;link rel=&quot;stylesheet&quot; href=&quot;https://netdna.bootstrapcdn.com/bootstrap/3.0.0/css/bootstrap.min.css&quot;/&gt;\n",
       "    &lt;link rel=&quot;stylesheet&quot; href=&quot;https://cdn.jsdelivr.net/npm/@fortawesome/fontawesome-free@6.2.0/css/all.min.css&quot;/&gt;\n",
       "    &lt;link rel=&quot;stylesheet&quot; href=&quot;https://cdnjs.cloudflare.com/ajax/libs/Leaflet.awesome-markers/2.0.2/leaflet.awesome-markers.css&quot;/&gt;\n",
       "    &lt;link rel=&quot;stylesheet&quot; href=&quot;https://cdn.jsdelivr.net/gh/python-visualization/folium/folium/templates/leaflet.awesome.rotate.min.css&quot;/&gt;\n",
       "    \n",
       "            &lt;meta name=&quot;viewport&quot; content=&quot;width=device-width,\n",
       "                initial-scale=1.0, maximum-scale=1.0, user-scalable=no&quot; /&gt;\n",
       "            &lt;style&gt;\n",
       "                #map_d63bdffa50a44a120ff4cc8f9f25551a {\n",
       "                    position: relative;\n",
       "                    width: 100.0%;\n",
       "                    height: 100.0%;\n",
       "                    left: 0.0%;\n",
       "                    top: 0.0%;\n",
       "                }\n",
       "                .leaflet-container { font-size: 1rem; }\n",
       "            &lt;/style&gt;\n",
       "        \n",
       "&lt;/head&gt;\n",
       "&lt;body&gt;\n",
       "    \n",
       "    \n",
       "            &lt;div class=&quot;folium-map&quot; id=&quot;map_d63bdffa50a44a120ff4cc8f9f25551a&quot; &gt;&lt;/div&gt;\n",
       "        \n",
       "&lt;/body&gt;\n",
       "&lt;script&gt;\n",
       "    \n",
       "    \n",
       "            var map_d63bdffa50a44a120ff4cc8f9f25551a = L.map(\n",
       "                &quot;map_d63bdffa50a44a120ff4cc8f9f25551a&quot;,\n",
       "                {\n",
       "                    center: [-9.7083, -39.8532],\n",
       "                    crs: L.CRS.EPSG3857,\n",
       "                    zoom: 12,\n",
       "                    zoomControl: true,\n",
       "                    preferCanvas: false,\n",
       "                }\n",
       "            );\n",
       "\n",
       "            \n",
       "\n",
       "        \n",
       "    \n",
       "            var tile_layer_3c1f40577536bb60c57ad7b2a3f6918a = L.tileLayer(\n",
       "                &quot;https://{s}.tile.openstreetmap.org/{z}/{x}/{y}.png&quot;,\n",
       "                {&quot;attribution&quot;: &quot;Data by \\u0026copy; \\u003ca target=\\&quot;_blank\\&quot; href=\\&quot;http://openstreetmap.org\\&quot;\\u003eOpenStreetMap\\u003c/a\\u003e, under \\u003ca target=\\&quot;_blank\\&quot; href=\\&quot;http://www.openstreetmap.org/copyright\\&quot;\\u003eODbL\\u003c/a\\u003e.&quot;, &quot;detectRetina&quot;: false, &quot;maxNativeZoom&quot;: 18, &quot;maxZoom&quot;: 18, &quot;minZoom&quot;: 0, &quot;noWrap&quot;: false, &quot;opacity&quot;: 1, &quot;subdomains&quot;: &quot;abc&quot;, &quot;tms&quot;: false}\n",
       "            );\n",
       "        \n",
       "    \n",
       "                tile_layer_3c1f40577536bb60c57ad7b2a3f6918a.addTo(map_d63bdffa50a44a120ff4cc8f9f25551a);\n",
       "    \n",
       "\n",
       "        function geo_json_f2369006ec28725c31428540e834c1b0_onEachFeature(feature, layer) {\n",
       "            layer.on({\n",
       "            });\n",
       "        };\n",
       "        var geo_json_f2369006ec28725c31428540e834c1b0 = L.geoJson(null, {\n",
       "                onEachFeature: geo_json_f2369006ec28725c31428540e834c1b0_onEachFeature,\n",
       "            \n",
       "        });\n",
       "\n",
       "        function geo_json_f2369006ec28725c31428540e834c1b0_add (data) {\n",
       "            geo_json_f2369006ec28725c31428540e834c1b0\n",
       "                .addData(data);\n",
       "        }\n",
       "            geo_json_f2369006ec28725c31428540e834c1b0_add({&quot;bbox&quot;: [-39.88245375253269, -9.731084068863375, -39.82394624746731, -9.685515931136624], &quot;features&quot;: [{&quot;bbox&quot;: [-39.88245375253269, -9.731084068863375, -39.82394624746731, -9.685515931136624], &quot;geometry&quot;: {&quot;coordinates&quot;: [[[-39.88245375253269, -9.731084068863375], [-39.88245375253269, -9.685515931136624], [-39.82394624746731, -9.685515931136624], [-39.82394624746731, -9.731084068863375], [-39.88245375253269, -9.731084068863375]]], &quot;type&quot;: &quot;Polygon&quot;}, &quot;id&quot;: &quot;0&quot;, &quot;properties&quot;: {}, &quot;type&quot;: &quot;Feature&quot;}], &quot;type&quot;: &quot;FeatureCollection&quot;});\n",
       "\n",
       "        \n",
       "    \n",
       "                geo_json_f2369006ec28725c31428540e834c1b0.addTo(map_d63bdffa50a44a120ff4cc8f9f25551a);\n",
       "&lt;/script&gt;\n",
       "&lt;/html&gt;\" style=\"position:absolute;width:100%;height:100%;left:0;top:0;border:none !important;\" allowfullscreen webkitallowfullscreen mozallowfullscreen></iframe></div></div>"
      ],
      "text/plain": [
       "<folium.folium.Map at 0x7f5f94356eb0>"
      ]
     },
     "execution_count": 13,
     "metadata": {},
     "output_type": "execute_result"
    }
   ],
   "source": [
    "quadrado = Polygon(quadrado)\n",
    "quadrado_gdf = gpd.GeoSeries(quadrado)\n",
    "geo_json_data = quadrado_gdf.to_json()\n",
    "mapa = folium.Map(location=[_posMaps[0],_posMaps[1]], zoom_start=12)\n",
    "#quadrado_gdf.add_to(mapa)\n",
    "folium.GeoJson(geo_json_data).add_to(mapa)\n",
    "mapa"
   ]
  },
  {
   "cell_type": "markdown",
   "id": "a425ec65-5fa8-4511-af1e-c10c7d221336",
   "metadata": {},
   "source": [
    "Montar informaçoes sobre a tarefa"
   ]
  },
  {
   "cell_type": "code",
   "execution_count": 25,
   "id": "bacc4bac-0a7b-437a-b954-113d5fabc3ff",
   "metadata": {},
   "outputs": [],
   "source": [
    "#Configuraçoes de tarefa\n",
    "task_type = ['point','area']        # Type of task, area or point\n",
    "proj = projs['native']['Name']  # Set output projection \n",
    "outFormat = ['geotiff', 'netcdf4']  # Set output file format type\n",
    "startDate = '07-01-2017'            # Start of the date range for which to extract data: MM-DD-YYYY\n",
    "endDate = '07-31-2017'              # End of the date range for which to extract data: MM-DD-YYYY\n",
    "recurring = False                   # Specify True for a recurring date range"
   ]
  },
  {
   "cell_type": "code",
   "execution_count": 26,
   "id": "c281c1c8-cd14-4e66-a83f-a738fa280dad",
   "metadata": {},
   "outputs": [
    {
     "data": {
      "text/plain": [
       "{'task_type': 'area',\n",
       " 'task_name': 'tarefa Poço de Fora, Curaçá - BA 01-01-2010',\n",
       " 'params': {'dates': [{'startDate': '01-01-2010', 'endDate': '01-31-2010'}],\n",
       "  'layers': [{'layer': 'SR_B1', 'product': 'L07.002'},\n",
       "   {'layer': 'SR_B2', 'product': 'L07.002'},\n",
       "   {'layer': 'SR_B3', 'product': 'L07.002'},\n",
       "   {'layer': 'SR_B4', 'product': 'L07.002'}],\n",
       "  'output': {'format': {'type': 'geotiff'}, 'projection': 'native'},\n",
       "  'geo': {'type': 'FeatureCollection',\n",
       "   'features': [{'type': 'Feature',\n",
       "     'properties': {},\n",
       "     'geometry': {'coordinates': [[[-39.88245375253269, -9.731084068863375],\n",
       "        [-39.88245375253269, -9.685515931136624],\n",
       "        [-39.82394624746731, -9.685515931136624],\n",
       "        [-39.82394624746731, -9.731084068863375],\n",
       "        [-39.88245375253269, -9.731084068863375]]],\n",
       "      'type': 'Polygon'}}]}}}"
      ]
     },
     "execution_count": 26,
     "metadata": {},
     "output_type": "execute_result"
    }
   ],
   "source": [
    "def criar_tarefa(dataInicial,dataFinal):\n",
    "    task_name = \"tarefa \"+_NomeLocal+\" \"+str(dataInicial)#input('Digite um nome para a tarefa: ')\n",
    "    task = {\n",
    "        'task_type': task_type[1],\n",
    "        'task_name': task_name,\n",
    "        'params': {\n",
    "             'dates': [\n",
    "             {\n",
    "                 'startDate': str(dataInicial),\n",
    "                 'endDate': str(dataFinal)\n",
    "             }],\n",
    "             'layers': prodLayer,\n",
    "             'output': {\n",
    "                     'format': {\n",
    "                             'type': outFormat[0]}, \n",
    "                             'projection': proj},\n",
    "             'geo': data_Json,\n",
    "        }\n",
    "    }\n",
    "    return task\n",
    "task = criar_tarefa(_intervalo_de_tempo[0][0],_intervalo_de_tempo[0][1])\n",
    "task"
   ]
  },
  {
   "cell_type": "markdown",
   "id": "a9fa39a2-16a4-4a94-8142-1b417014da4d",
   "metadata": {},
   "source": [
    "Percorrer a lista de datas para buscar se as informações sobre a mesma já foram baixadas, caso já tenham sido ignorar elas e não foram, criar uma lista de tarefas"
   ]
  },
  {
   "cell_type": "code",
   "execution_count": 16,
   "id": "c154f319-2cbb-4e0a-97f2-be3dc6df7049",
   "metadata": {},
   "outputs": [
    {
     "data": {
      "text/plain": [
       "{'task_id': '03cd4b15-3a74-43cb-92fb-509d8bbb94b4', 'status': 'pending'}"
      ]
     },
     "execution_count": 16,
     "metadata": {},
     "output_type": "execute_result"
    }
   ],
   "source": [
    "task_response = requests.post('{}task'.format(api), json=task, headers=head).json()  # Post json to the API task service, return response as json\n",
    "#task_response = {'task_id': '5eecf5d6-e9ec-46b0-a340-db3ad6ac7418', 'status': 'pending'}\n",
    "task_response"
   ]
  },
  {
   "cell_type": "markdown",
   "id": "da63f3e9-5ec6-4a19-a1b3-5571599290d4",
   "metadata": {},
   "source": [
    "Verificar o estado da tarefa atual"
   ]
  },
  {
   "cell_type": "code",
   "execution_count": 17,
   "id": "e772636c-9f00-459f-aa66-f15c292511da",
   "metadata": {},
   "outputs": [
    {
     "data": {
      "text/plain": [
       "{'task_id': '03cd4b15-3a74-43cb-92fb-509d8bbb94b4',\n",
       " 'status': 'queued',\n",
       " 'user_id': 'bistone3000@gmail.com',\n",
       " 'updated': '2023-12-27T23:35:03.448558',\n",
       " 'status_type': 'task'}"
      ]
     },
     "execution_count": 17,
     "metadata": {},
     "output_type": "execute_result"
    }
   ],
   "source": [
    "task_id = task_response['task_id']                                               \n",
    "status_response = requests.get('{}status/{}'.format(api, task_id), headers=head).json() \n",
    "status_response "
   ]
  },
  {
   "cell_type": "markdown",
   "id": "69773add-e227-4bdb-9997-c6e48317a153",
   "metadata": {},
   "source": [
    "Criar um loop e esperar até que a tarefa esteja concluida"
   ]
  },
  {
   "cell_type": "code",
   "execution_count": 19,
   "id": "b2a4a8ec-df74-4fe9-8df8-6b58cb9dc1e1",
   "metadata": {},
   "outputs": [
    {
     "name": "stdout",
     "output_type": "stream",
     "text": [
      "queued\n",
      "queued\n",
      "queued\n",
      "queued\n",
      "processing\n",
      "done\n",
      "done\n"
     ]
    }
   ],
   "source": [
    "starttime = time.time()\n",
    "def status(id_tarefa):\n",
    "    return requests.get('{}task/{}'.format(api, id_tarefa), headers=head).json()['status']\n",
    "_status = status(task_id)\n",
    "while _status != 'done':\n",
    "    _status = status(task_id)\n",
    "    time.sleep(20.0 - ((time.time() - starttime) % 20.0))\n",
    "    print(_status)\n",
    "print(_status)"
   ]
  },
  {
   "cell_type": "markdown",
   "id": "675f2ea2-ee89-440c-be11-4d6d4be62050",
   "metadata": {},
   "source": [
    "Verificar lista de arquivos da tarefa"
   ]
  },
  {
   "cell_type": "code",
   "execution_count": 20,
   "id": "5b079630-2d04-47f3-ba8b-8b4db758b46c",
   "metadata": {},
   "outputs": [
    {
     "data": {
      "text/plain": [
       "{'files': [{'sha256': '34671d888ad369ddff746c32907cbe374224812b9c9e550c09b32b0a902edcaa',\n",
       "   'file_id': 'b0eb2f99-b0e8-4592-9de0-c4feb2cef62c',\n",
       "   'file_name': 'tarefa-Poco-de-Fora-Curaca-BA-01-01-2010-request.json',\n",
       "   'file_size': 1254,\n",
       "   'file_type': 'json',\n",
       "   's3_url': 's3://appeears-output/03cd4b15-3a74-43cb-92fb-509d8bbb94b4/tarefa-Poco-de-Fora-Curaca-BA-01-01-2010-request.json'},\n",
       "  {'sha256': '649471f7ef6677a5e3ad932e2ae5f06a2e6bfafa15766cad22ab76b4cbaf6cc1',\n",
       "   'file_id': '80f21527-aecd-436b-9cda-666db5e15849',\n",
       "   'file_name': 'tarefa-Poco-de-Fora-Curaca-BA-01-01-2010-L07-002-metadata.xml',\n",
       "   'file_size': 20744,\n",
       "   'file_type': 'xml',\n",
       "   's3_url': 's3://appeears-output/03cd4b15-3a74-43cb-92fb-509d8bbb94b4/tarefa-Poco-de-Fora-Curaca-BA-01-01-2010-L07-002-metadata.xml'},\n",
       "  {'sha256': '64493b7c9f6a4b0b641b0fee9122ea10bc4eaa4295f70dc505ac4415d2232a9d',\n",
       "   'file_id': '19b630c1-8963-402d-be7a-286cf58dea7f',\n",
       "   'file_name': 'README.md',\n",
       "   'file_size': 28180,\n",
       "   'file_type': 'txt',\n",
       "   's3_url': 's3://appeears-output/03cd4b15-3a74-43cb-92fb-509d8bbb94b4/README.md'}],\n",
       " 'created': '2023-12-27T23:37:15.740358',\n",
       " 'task_id': '03cd4b15-3a74-43cb-92fb-509d8bbb94b4',\n",
       " 'updated': '2023-12-27T23:37:19.825875',\n",
       " 'bundle_type': 'area'}"
      ]
     },
     "execution_count": 20,
     "metadata": {},
     "output_type": "execute_result"
    }
   ],
   "source": [
    "bundle = requests.get('{}bundle/{}'.format(api,task_id), headers=head).json()  # Call API and return bundle contents for the task_id as json\n",
    "bundle"
   ]
  },
  {
   "cell_type": "markdown",
   "id": "e7d96fd0-974b-4e64-b8ce-6580f1378c51",
   "metadata": {},
   "source": [
    "Criar lista de arquivos a ser baixada"
   ]
  },
  {
   "cell_type": "code",
   "execution_count": 21,
   "id": "bac0aeee-fc46-43cb-9f74-8aa74551b6b9",
   "metadata": {},
   "outputs": [
    {
     "data": {
      "text/plain": [
       "{'b0eb2f99-b0e8-4592-9de0-c4feb2cef62c': ['tarefa-Poco-de-Fora-Curaca-BA-01-01-2010-request.json',\n",
       "  1254],\n",
       " '80f21527-aecd-436b-9cda-666db5e15849': ['tarefa-Poco-de-Fora-Curaca-BA-01-01-2010-L07-002-metadata.xml',\n",
       "  20744],\n",
       " '19b630c1-8963-402d-be7a-286cf58dea7f': ['README.md', 28180]}"
      ]
     },
     "execution_count": 21,
     "metadata": {},
     "output_type": "execute_result"
    }
   ],
   "source": [
    "files = {}                                                       \n",
    "for f in bundle['files']: files[f['file_id']] = [f['file_name'], f['file_size']]\n",
    "files"
   ]
  },
  {
   "cell_type": "markdown",
   "id": "9f809c20-6188-459a-ae9f-700702cb28fe",
   "metadata": {},
   "source": [
    "Fazer o download dos arquivos"
   ]
  },
  {
   "cell_type": "code",
   "execution_count": 22,
   "id": "153ff9ff-205c-40b3-ae4f-bce0118714e1",
   "metadata": {},
   "outputs": [
    {
     "name": "stdout",
     "output_type": "stream",
     "text": [
      "Baixando arquivo: tarefa-Poco-de-Fora-Curaca-BA-01-01-2010-request.json 1/3\n"
     ]
    },
    {
     "name": "stderr",
     "output_type": "stream",
     "text": [
      "  2%|█▉                                                                              | 30.0/1.25k [00:00<00:00, 157kB/s]\n"
     ]
    },
    {
     "name": "stdout",
     "output_type": "stream",
     "text": [
      "Baixando arquivo: tarefa-Poco-de-Fora-Curaca-BA-01-01-2010-L07-002-metadata.xml 2/3\n"
     ]
    },
    {
     "name": "stderr",
     "output_type": "stream",
     "text": [
      "  0%|                                                                                | 30.0/20.7k [00:00<00:00, 160kB/s]\n"
     ]
    },
    {
     "name": "stdout",
     "output_type": "stream",
     "text": [
      "Baixando arquivo: README.md 3/3\n"
     ]
    },
    {
     "name": "stderr",
     "output_type": "stream",
     "text": [
      "  0%|                                                                                | 30.0/28.2k [00:00<00:00, 168kB/s]"
     ]
    },
    {
     "name": "stdout",
     "output_type": "stream",
     "text": [
      "Todos os arquivos da tarefa salvos em: cache_data/tarefa Poço de Fora, Curaçá - BA 2010\n"
     ]
    },
    {
     "name": "stderr",
     "output_type": "stream",
     "text": [
      "\n"
     ]
    }
   ],
   "source": [
    "task_name = \"tarefa \"+_NomeLocal+\" \"+str(_ano_inicial)\n",
    "destDir = os.path.join(inDir, task_name)                \n",
    "if not os.path.exists(destDir):os.makedirs(destDir) \n",
    "cont = 0\n",
    "numero = len(files)\n",
    "for f in files:\n",
    "    dl = requests.get('{}bundle/{}/{}'.format(api, task_id, f[0]), headers=head, stream=True, allow_redirects = 'True')                                # Get a stream to the bundle file\n",
    "    if files[f][0].endswith('.tif'):\n",
    "        filename = files[f][0].split('/')[1]\n",
    "    else:\n",
    "        filename = files[f][0] \n",
    "    filepath = os.path.join(destDir, filename)                                                      \n",
    "    with open(filepath, 'wb') as file: \n",
    "        print(f\"Baixando arquivo: {files[f][0]} {cont+1}/{numero}\")\n",
    "        progress = tqdm(total=int(files[f][1]), unit=\"B\", unit_scale=True)\n",
    "        for data in dl.iter_content(chunk_size=8192): \n",
    "            file.write(data) \n",
    "            progress.update(len(data))\n",
    "        progress.close()\n",
    "    cont += 1\n",
    "print('Todos os arquivos da tarefa salvos em: {}'.format(destDir))"
   ]
  },
  {
   "cell_type": "markdown",
   "id": "2df18d87-70f7-4f51-a17a-db94ecf0368f",
   "metadata": {},
   "source": [
    "Exibir tempo que levou para rodar a tarefa"
   ]
  },
  {
   "cell_type": "code",
   "execution_count": 23,
   "id": "f79b029d-5842-4de9-8b25-9079b9866391",
   "metadata": {},
   "outputs": [
    {
     "name": "stdout",
     "output_type": "stream",
     "text": [
      "O tempo de execução do notebook foi de 194.05 segundos\n"
     ]
    }
   ],
   "source": [
    "_fim = time.time()\n",
    "tempo = _fim - _inicio\n",
    "print(f\"O tempo de execução do notebook foi de {tempo:.2f} segundos\")"
   ]
  }
 ],
 "metadata": {
  "kernelspec": {
   "display_name": "Python 3 (ipykernel)",
   "language": "python",
   "name": "python3"
  },
  "language_info": {
   "codemirror_mode": {
    "name": "ipython",
    "version": 3
   },
   "file_extension": ".py",
   "mimetype": "text/x-python",
   "name": "python",
   "nbconvert_exporter": "python",
   "pygments_lexer": "ipython3",
   "version": "3.9.18"
  }
 },
 "nbformat": 4,
 "nbformat_minor": 5
}
