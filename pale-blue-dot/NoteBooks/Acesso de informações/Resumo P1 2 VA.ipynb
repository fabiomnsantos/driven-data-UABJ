{
 "cells": [
  {
   "cell_type": "markdown",
   "id": "fb615068-9527-4db0-bdda-4b4ae2a548cd",
   "metadata": {},
   "source": [
    "# If elif:\n",
    "São estruturas condicionais que permitem executar um bloco de código se uma determinada condição for verdadeira, ou outro bloco se a condição for falsa. \n",
    "O if é seguido por uma expressão lógica e dois pontos, e o elif é usado para testar outras condições alternativas. \n",
    "O else é opcional e é usado para executar um bloco de código se nenhuma das condições anteriores for verdadeira. Por exemplo:"
   ]
  },
  {
   "cell_type": "code",
   "execution_count": 1,
   "id": "2a9e43c8-e103-4ddb-8d60-9803349b4383",
   "metadata": {},
   "outputs": [
    {
     "name": "stdin",
     "output_type": "stream",
     "text": [
      "Digite a sua idade:  30\n"
     ]
    },
    {
     "name": "stdout",
     "output_type": "stream",
     "text": [
      "Você é maior de idade.\n"
     ]
    }
   ],
   "source": [
    "idade = int(input(\"Digite a sua idade: \"))\n",
    "if idade < 18:\n",
    "    print(\"Você é menor de idade.\")\n",
    "elif idade == 18:\n",
    "    print(\"Você acabou de completar 18 anos.\")\n",
    "else:\n",
    "    print(\"Você é maior de idade.\")"
   ]
  },
  {
   "cell_type": "markdown",
   "id": "222a9344-82ae-47fd-bf05-b39ca341f4cc",
   "metadata": {},
   "source": [
    "# Funções: \n",
    "São blocos de código que podem ser chamados por um nome e receber parâmetros opcionais. As funções permitem evitar a repetição de código e modularizar (Organizar em pequenos modulos ou blocos) o programa em partes menores e mais claras. Para definir uma função, usa-se a palavra-chave def seguida pelo nome da função, parênteses com os parâmetros e dois pontos. O corpo da função deve estar indentado. Para retornar um valor da função, usa-se a palavra-chave return. Para chamar uma função, usa-se o nome da função seguido pelos argumentos entre parênteses. Por exemplo:"
   ]
  },
  {
   "cell_type": "code",
   "execution_count": 2,
   "id": "ed2987a1-f6e4-47a9-9bb9-19a9dc11f967",
   "metadata": {},
   "outputs": [
    {
     "name": "stdin",
     "output_type": "stream",
     "text": [
      "Digite um número:  15\n",
      "Digite outro número:  30\n"
     ]
    },
    {
     "name": "stdout",
     "output_type": "stream",
     "text": [
      "A soma de 15 e 30 é 45\n"
     ]
    }
   ],
   "source": [
    "def soma(a, b):\n",
    "    # Esta função retorna a soma de dois números\n",
    "    return a + b\n",
    "\n",
    "x = int(input(\"Digite um número: \"))\n",
    "y = int(input(\"Digite outro número: \"))\n",
    "z = soma(x, y) # Chamando a função soma\n",
    "print(\"A soma de\", x, \"e\", y, \"é\", z)"
   ]
  },
  {
   "cell_type": "markdown",
   "id": "af7228e3-8ead-4715-9318-425059d005f8",
   "metadata": {},
   "source": [
    "# Sequências: \n",
    "São tipos de dados que armazenam vários valores em uma ordem específica. As sequências mais comuns em Python são as listas, as tuplas e as strings. As listas são delimitadas por colchetes e podem armazenar valores de tipos diferentes, que podem ser modificados. As tuplas são delimitadas por parênteses e podem armazenar valores de tipos diferentes, mas são imutáveis. As strings são delimitadas por aspas e armazenam caracteres, mas também são imutáveis. As sequências possuem alguns métodos que permitem manipular seus elementos, como append, insert, remove, sort, count, index, etc. Por exemplo:"
   ]
  },
  {
   "cell_type": "code",
   "execution_count": 3,
   "id": "d03dd1ec-98d0-4877-bee1-9a63c9295e7e",
   "metadata": {},
   "outputs": [
    {
     "name": "stdout",
     "output_type": "stream",
     "text": [
      "Listas\n",
      "[0, 1, 2, 4, 5, 6]\n",
      "1\n",
      "-------------------------------\n",
      "Tupla\n",
      "1\n",
      "1\n",
      "2\n",
      "-------------------------------\n",
      "String\n",
      "O\n",
      "OLÁ, MUNDO!\n",
      "Olá, UABJ!\n"
     ]
    }
   ],
   "source": [
    "print(\"Listas\")\n",
    "lista = [2, 4, 1, 5, 3] # Criando uma lista\n",
    "lista.append(6) # Adicionando o elemento 6 ao final da lista\n",
    "lista.insert(0, 0) # Inserindo o elemento 0 na posição 0 da lista\n",
    "lista.remove(3) # Removendo o elemento 3 da lista\n",
    "lista.sort() # Ordenando a lista em ordem crescente\n",
    "print(lista) # Imprimindo a lista\n",
    "print(lista[1]) #imprimindo o segundo elemento da lista\n",
    "print(\"-------------------------------\")\n",
    "print(\"Tupla\")\n",
    "tupla = (1, 2, 3, 4, 5) # Criando uma tupla\n",
    "print(tupla[0]) # Imprimindo o primeiro elemento da tupla\n",
    "print(tupla.count(2)) # Contando quantas vezes o elemento 2 aparece na tupla\n",
    "print(tupla.index(3)) # Obtendo o índice do elemento 3 na tupla\n",
    "print(\"-------------------------------\")\n",
    "print(\"String\")\n",
    "string = \"Olá, mundo!\" # Criando uma string\n",
    "print(string[0]) # Imprimindo o primeiro caractere da string\n",
    "print(string.upper()) # Convertendo a string para maiúsculas\n",
    "print(string.replace(\"mundo\", \"UABJ\")) # Substituindo uma palavra por outra"
   ]
  },
  {
   "cell_type": "markdown",
   "id": "3adaa8f0-adab-4a45-9b9f-2778468f53f4",
   "metadata": {},
   "source": [
    "# Range \n",
    "A função range é uma forma conveniente de gerar uma sequência de números. A sintaxe básica da função range é range(inicio, fim, passo), onde inicio é o número inicial da sequência, fim é o número final (não inclindo o numero final) e passo é o incremento entre os números da sequência. Por exemplo:"
   ]
  },
  {
   "cell_type": "code",
   "execution_count": 1,
   "id": "c8791a12-8293-41b5-ab19-45a59ff3c29e",
   "metadata": {},
   "outputs": [
    {
     "name": "stdout",
     "output_type": "stream",
     "text": [
      "[0, 1, 2, 3, 4, 5, 6, 7, 8, 9]\n",
      "[5, 7, 9, 11, 13, 15]\n",
      "[10, 9, 8, 7, 6, 5, 4, 3, 2, 1, 0]\n"
     ]
    }
   ],
   "source": [
    "# Gerar uma sequência de 0 a 9, com passo 1\n",
    "print(list(range(10)))\n",
    "# [0, 1, 2, 3, 4, 5, 6, 7, 8, 9]\n",
    "\n",
    "# Gerar uma sequência de 5 a 15, com passo 2\n",
    "print(list(range(5, 16, 2)))\n",
    "# [5, 7, 9, 11, 13, 15]\n",
    "\n",
    "# Gerar uma sequência de 10 a 0, com passo -1\n",
    "print(list(range(10, -1, -1)))\n",
    "# [10, 9, 8, 7, 6, 5, 4, 3, 2, 1, 0]"
   ]
  },
  {
   "cell_type": "markdown",
   "id": "a09c1a54-5a08-474e-8399-e48c3749a738",
   "metadata": {},
   "source": [
    "Os parâmetros inicio e passo são opcionais, e possuem valores padrão de 0 e 1, respectivamente. Portanto, se você quiser gerar uma sequência de 0 até um número n, basta usar range(n). Se você quiser gerar uma sequência de um número a até um número b, basta usar range(a, b+1). Por exemplo:"
   ]
  },
  {
   "cell_type": "code",
   "execution_count": 2,
   "id": "8da6439d-f821-4059-af80-fa56c86d532a",
   "metadata": {},
   "outputs": [
    {
     "name": "stdout",
     "output_type": "stream",
     "text": [
      "[0, 1, 2, 3, 4]\n",
      "[3, 4, 5, 6, 7]\n"
     ]
    }
   ],
   "source": [
    "# Gerar uma sequência de 0 a 4\n",
    "print(list(range(5)))\n",
    "# [0, 1, 2, 3, 4]\n",
    "\n",
    "# Gerar uma sequência de 3 a 7\n",
    "print(list(range(3, 8)))\n",
    "# [3, 4, 5, 6, 7]"
   ]
  },
  {
   "cell_type": "markdown",
   "id": "2f38bcbd-193d-4c34-ab87-767ebe56a0d7",
   "metadata": {},
   "source": [
    "# For e while: \n",
    "São estruturas de repetição que permitem executar um bloco de código várias vezes, até que uma condição seja satisfeita. O for é usado para iterar (percorrer) sobre os elementos de uma sequência, como uma lista ou uma string. O while é usado para repetir um bloco de código enquanto uma expressão lógica for verdadeira. Ambas as estruturas são seguidas por dois pontos e o corpo deve estar indentado. Para interromper a execução de um loop, pode-se usar a palavra-chave break. Para pular uma iteração do loop, pode-se usar a palavra-chave continue. Por exemplo:"
   ]
  },
  {
   "cell_type": "code",
   "execution_count": 7,
   "id": "d96f2ff5-b5d2-4a8c-aaa9-aae1bcffa13b",
   "metadata": {},
   "outputs": [
    {
     "name": "stdout",
     "output_type": "stream",
     "text": [
      "FOR\n",
      "0\n",
      "1\n",
      "2\n",
      "3\n",
      "4\n",
      "5\n",
      "-------------------------------\n",
      "While\n"
     ]
    },
    {
     "name": "stdin",
     "output_type": "stream",
     "text": [
      "Digite o seu nome:  Gladistony\n"
     ]
    },
    {
     "name": "stdout",
     "output_type": "stream",
     "text": [
      "Olá, Gladistony\n"
     ]
    },
    {
     "name": "stdin",
     "output_type": "stream",
     "text": [
      "Digite o seu nome:  \n",
      "Digite o seu nome:  João\n"
     ]
    },
    {
     "name": "stdout",
     "output_type": "stream",
     "text": [
      "Olá, João\n"
     ]
    },
    {
     "name": "stdin",
     "output_type": "stream",
     "text": [
      "Digite o seu nome:  Paulo\n"
     ]
    },
    {
     "name": "stdout",
     "output_type": "stream",
     "text": [
      "Olá, Paulo\n"
     ]
    },
    {
     "name": "stdin",
     "output_type": "stream",
     "text": [
      "Digite o seu nome:  sair\n"
     ]
    }
   ],
   "source": [
    "print(\"FOR\")\n",
    "for i in range(10): # Repetindo 10 vezes\n",
    "    print(i) # Imprimindo o valor de i\n",
    "    if i == 5: # Se i for igual a 5\n",
    "        break # Interrompe o loop\n",
    "print(\"-------------------------------\")\n",
    "print(\"While\")\n",
    "while True: # Repetindo indefinidamente\n",
    "    nome = input(\"Digite o seu nome: \") # Lendo o nome do usuário\n",
    "    if nome == \"\": # Se o nome for vazio\n",
    "        continue # Pula para a próxima iteração\n",
    "    if nome == \"sair\": # Se o nome for \"sair\"\n",
    "        break # Interrompe o loop\n",
    "    print(\"Olá,\", nome) # Imprime uma saudação"
   ]
  },
  {
   "cell_type": "code",
   "execution_count": null,
   "id": "f961d93a-2365-48f3-be10-2e5dd4e1bd6a",
   "metadata": {},
   "outputs": [],
   "source": []
  }
 ],
 "metadata": {
  "kernelspec": {
   "display_name": "Python 3 (ipykernel)",
   "language": "python",
   "name": "python3"
  },
  "language_info": {
   "codemirror_mode": {
    "name": "ipython",
    "version": 3
   },
   "file_extension": ".py",
   "mimetype": "text/x-python",
   "name": "python",
   "nbconvert_exporter": "python",
   "pygments_lexer": "ipython3",
   "version": "3.9.18"
  }
 },
 "nbformat": 4,
 "nbformat_minor": 5
}
