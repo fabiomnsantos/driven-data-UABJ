{
 "cells": [
  {
   "cell_type": "markdown",
   "id": "68734b7c-7e4c-46ad-8904-75ad6d18663c",
   "metadata": {},
   "source": [
    "# Utilizando o folium com o Google Earth"
   ]
  },
  {
   "cell_type": "markdown",
   "id": "2a11a139-0666-428d-b4b6-d1885b74926f",
   "metadata": {},
   "source": [
    "Queremos testar uma visualização que utiliza o folium e o Google Earth Engine para criar um mapa interativo."
   ]
  },
  {
   "cell_type": "code",
   "execution_count": null,
   "id": "8e1613b0-05c0-445f-8d4f-fa4af4df857e",
   "metadata": {},
   "outputs": [],
   "source": [
    "import ee\n",
    "\n",
    "ee.Authenticate()\n",
    "\n"
   ]
  },
  {
   "cell_type": "code",
   "execution_count": 4,
   "id": "a9173b78-d408-4c96-9905-e9fa3ca7e3e8",
   "metadata": {},
   "outputs": [
    {
     "data": {
      "text/html": [
       "<p>To authorize access needed by Earth Engine, open the following\n",
       "        URL in a web browser and follow the instructions:</p>\n",
       "        <p><a href=https://code.earthengine.google.com/client-auth?scopes=https%3A//www.googleapis.com/auth/earthengine%20https%3A//www.googleapis.com/auth/devstorage.full_control&request_id=nq7vLi4icq8MVQnIA6W9FHncX2VwZwhC8L7tOP2UDZw&tc=qH5_dAVlbIOhSblXQvNwOvi3I8-P_ofUOtxUmBlIKOI&cc=-pRENHnOldlflFgpX9r_TYO7FbgGRkpB5c4s7gHlxZU>https://code.earthengine.google.com/client-auth?scopes=https%3A//www.googleapis.com/auth/earthengine%20https%3A//www.googleapis.com/auth/devstorage.full_control&request_id=nq7vLi4icq8MVQnIA6W9FHncX2VwZwhC8L7tOP2UDZw&tc=qH5_dAVlbIOhSblXQvNwOvi3I8-P_ofUOtxUmBlIKOI&cc=-pRENHnOldlflFgpX9r_TYO7FbgGRkpB5c4s7gHlxZU</a></p>\n",
       "        <p>The authorization workflow will generate a code, which you should paste in the box below.</p>\n",
       "        "
      ],
      "text/plain": [
       "<IPython.core.display.HTML object>"
      ]
     },
     "metadata": {},
     "output_type": "display_data"
    },
    {
     "name": "stdin",
     "output_type": "stream",
     "text": [
      "Enter verification code:  4/1AfJohXnK42R0emy7ACputniuWZqhdhUCd86zFzPGkTzm5s44_At6KPXDtr8\n"
     ]
    },
    {
     "name": "stdout",
     "output_type": "stream",
     "text": [
      "\n",
      "Successfully saved authorization token.\n"
     ]
    },
    {
     "data": {
      "text/html": [
       "<img src=\"https://earthengine.googleapis.com/v1/projects/earthengine-legacy/thumbnails/d63798658e7395f12ee02d21cca60917-6c52e8d613e09b19d1ef897a79641e73:getPixels\"/>"
      ],
      "text/plain": [
       "<IPython.core.display.Image object>"
      ]
     },
     "execution_count": 4,
     "metadata": {},
     "output_type": "execute_result"
    }
   ],
   "source": [
    "import geehydro\n",
    "from IPython.display import Image\n",
    "\n",
    "ee.Initialize()\n",
    "\n",
    "poi = ee.Geometry.Point([122.1247, 13.2735]) # [long, lat]\n",
    "roi = poi.buffer(distance=9.2e5)\n",
    "\n",
    "dataset = ee.ImageCollection(\"MODIS/006/MOD11A1\")\n",
    "dataset = dataset.select('LST_Day_1km')\n",
    "\n",
    "date_filter = ee.Filter.date('2021-01-01', '2022-01-01')\n",
    "dataset = dataset.filter(date_filter)\n",
    "\n",
    "image = dataset.mean()\n",
    "image = image.multiply(0.02).add(-273.15)\n",
    "visualisation_params = { \n",
    "  'min': 8,\n",
    "  'max': 40,\n",
    "  'dimensions': 620,\n",
    "  'region': roi,\n",
    "  'palette': ['blue', 'yellow', 'red']\n",
    "}\n",
    "url = image.getThumbUrl(visualisation_params)\n",
    "\n",
    "Image(url=url)"
   ]
  },
  {
   "cell_type": "code",
   "execution_count": 13,
   "id": "64b362ed-2564-46af-a770-459a2f5ab6de",
   "metadata": {},
   "outputs": [
    {
     "data": {
      "text/html": [
       "<div style=\"width:100%;\"><div style=\"position:relative;width:100%;height:0;padding-bottom:60%;\"><span style=\"color:#565656\">Make this Notebook Trusted to load map: File -> Trust Notebook</span><iframe srcdoc=\"&lt;!DOCTYPE html&gt;\n",
       "&lt;html&gt;\n",
       "&lt;head&gt;\n",
       "    \n",
       "    &lt;meta http-equiv=&quot;content-type&quot; content=&quot;text/html; charset=UTF-8&quot; /&gt;\n",
       "    \n",
       "        &lt;script&gt;\n",
       "            L_NO_TOUCH = false;\n",
       "            L_DISABLE_3D = false;\n",
       "        &lt;/script&gt;\n",
       "    \n",
       "    &lt;style&gt;html, body {width: 100%;height: 100%;margin: 0;padding: 0;}&lt;/style&gt;\n",
       "    &lt;style&gt;#map {position:absolute;top:0;bottom:0;right:0;left:0;}&lt;/style&gt;\n",
       "    &lt;script src=&quot;https://cdn.jsdelivr.net/npm/leaflet@1.9.3/dist/leaflet.js&quot;&gt;&lt;/script&gt;\n",
       "    &lt;script src=&quot;https://code.jquery.com/jquery-3.7.1.min.js&quot;&gt;&lt;/script&gt;\n",
       "    &lt;script src=&quot;https://cdn.jsdelivr.net/npm/bootstrap@5.2.2/dist/js/bootstrap.bundle.min.js&quot;&gt;&lt;/script&gt;\n",
       "    &lt;script src=&quot;https://cdnjs.cloudflare.com/ajax/libs/Leaflet.awesome-markers/2.0.2/leaflet.awesome-markers.js&quot;&gt;&lt;/script&gt;\n",
       "    &lt;link rel=&quot;stylesheet&quot; href=&quot;https://cdn.jsdelivr.net/npm/leaflet@1.9.3/dist/leaflet.css&quot;/&gt;\n",
       "    &lt;link rel=&quot;stylesheet&quot; href=&quot;https://cdn.jsdelivr.net/npm/bootstrap@5.2.2/dist/css/bootstrap.min.css&quot;/&gt;\n",
       "    &lt;link rel=&quot;stylesheet&quot; href=&quot;https://netdna.bootstrapcdn.com/bootstrap/3.0.0/css/bootstrap.min.css&quot;/&gt;\n",
       "    &lt;link rel=&quot;stylesheet&quot; href=&quot;https://cdn.jsdelivr.net/npm/@fortawesome/fontawesome-free@6.2.0/css/all.min.css&quot;/&gt;\n",
       "    &lt;link rel=&quot;stylesheet&quot; href=&quot;https://cdnjs.cloudflare.com/ajax/libs/Leaflet.awesome-markers/2.0.2/leaflet.awesome-markers.css&quot;/&gt;\n",
       "    &lt;link rel=&quot;stylesheet&quot; href=&quot;https://cdn.jsdelivr.net/gh/python-visualization/folium/folium/templates/leaflet.awesome.rotate.min.css&quot;/&gt;\n",
       "    \n",
       "            &lt;meta name=&quot;viewport&quot; content=&quot;width=device-width,\n",
       "                initial-scale=1.0, maximum-scale=1.0, user-scalable=no&quot; /&gt;\n",
       "            &lt;style&gt;\n",
       "                #map_c7b39842177395ec9215b94bd44df57a {\n",
       "                    position: relative;\n",
       "                    width: 100.0%;\n",
       "                    height: 100.0%;\n",
       "                    left: 0.0%;\n",
       "                    top: 0.0%;\n",
       "                }\n",
       "                .leaflet-container { font-size: 1rem; }\n",
       "            &lt;/style&gt;\n",
       "        \n",
       "    &lt;script src=&quot;https://cdn.jsdelivr.net/npm/leaflet.fullscreen@3.0.0/Control.FullScreen.min.js&quot;&gt;&lt;/script&gt;\n",
       "    &lt;link rel=&quot;stylesheet&quot; href=&quot;https://cdn.jsdelivr.net/npm/leaflet.fullscreen@3.0.0/Control.FullScreen.css&quot;/&gt;\n",
       "&lt;/head&gt;\n",
       "&lt;body&gt;\n",
       "    \n",
       "    \n",
       "            &lt;div class=&quot;folium-map&quot; id=&quot;map_c7b39842177395ec9215b94bd44df57a&quot; &gt;&lt;/div&gt;\n",
       "        \n",
       "&lt;/body&gt;\n",
       "&lt;script&gt;\n",
       "    \n",
       "    \n",
       "            var map_c7b39842177395ec9215b94bd44df57a = L.map(\n",
       "                &quot;map_c7b39842177395ec9215b94bd44df57a&quot;,\n",
       "                {\n",
       "                    center: [-10.0, -40.0],\n",
       "                    crs: L.CRS.EPSG3857,\n",
       "                    zoom: 6,\n",
       "                    zoomControl: true,\n",
       "                    preferCanvas: false,\n",
       "                }\n",
       "            );\n",
       "\n",
       "            \n",
       "\n",
       "        \n",
       "    \n",
       "            var tile_layer_152841ca6f90d92011aed765d577f92f = L.tileLayer(\n",
       "                &quot;https://{s}.tile.openstreetmap.org/{z}/{x}/{y}.png&quot;,\n",
       "                {&quot;attribution&quot;: &quot;Data by \\u0026copy; \\u003ca target=\\&quot;_blank\\&quot; href=\\&quot;http://openstreetmap.org\\&quot;\\u003eOpenStreetMap\\u003c/a\\u003e, under \\u003ca target=\\&quot;_blank\\&quot; href=\\&quot;http://www.openstreetmap.org/copyright\\&quot;\\u003eODbL\\u003c/a\\u003e.&quot;, &quot;detectRetina&quot;: false, &quot;maxNativeZoom&quot;: 18, &quot;maxZoom&quot;: 18, &quot;minZoom&quot;: 0, &quot;noWrap&quot;: false, &quot;opacity&quot;: 1, &quot;subdomains&quot;: &quot;abc&quot;, &quot;tms&quot;: false}\n",
       "            );\n",
       "        \n",
       "    \n",
       "                tile_layer_152841ca6f90d92011aed765d577f92f.addTo(map_c7b39842177395ec9215b94bd44df57a);\n",
       "    \n",
       "            var tile_layer_ff05805fc4fa15228a2809c45c0aabc9 = L.tileLayer(\n",
       "                &quot;https://mt1.google.com/vt/lyrs=s\\u0026x={x}\\u0026y={y}\\u0026z={z}&quot;,\n",
       "                {&quot;attribution&quot;: &quot;Google&quot;, &quot;detectRetina&quot;: false, &quot;maxNativeZoom&quot;: 18, &quot;maxZoom&quot;: 18, &quot;minZoom&quot;: 0, &quot;noWrap&quot;: false, &quot;opacity&quot;: 1, &quot;subdomains&quot;: &quot;abc&quot;, &quot;tms&quot;: false}\n",
       "            );\n",
       "        \n",
       "    \n",
       "                tile_layer_ff05805fc4fa15228a2809c45c0aabc9.addTo(map_c7b39842177395ec9215b94bd44df57a);\n",
       "    \n",
       "            var tile_layer_3e91290a1a4d90fba3cc48217cffe898 = L.tileLayer(\n",
       "                &quot;https://earthengine.googleapis.com/v1/projects/earthengine-legacy/maps/30326c665e1b3c23d70aabf3b3dd63cc-a9faa0e8e61a44a448f0bbfb00555092/tiles/{z}/{x}/{y}&quot;,\n",
       "                {&quot;attribution&quot;: &quot;Google Earth Engine&quot;, &quot;detectRetina&quot;: false, &quot;maxNativeZoom&quot;: 18, &quot;maxZoom&quot;: 18, &quot;minZoom&quot;: 0, &quot;noWrap&quot;: false, &quot;opacity&quot;: 1, &quot;subdomains&quot;: &quot;abc&quot;, &quot;tms&quot;: false}\n",
       "            );\n",
       "        \n",
       "    \n",
       "                tile_layer_3e91290a1a4d90fba3cc48217cffe898.addTo(map_c7b39842177395ec9215b94bd44df57a);\n",
       "    \n",
       "            var layer_control_3f7f54c50e0e7009cd2ddf67385bf063_layers = {\n",
       "                base_layers : {\n",
       "                    &quot;openstreetmap&quot; : tile_layer_152841ca6f90d92011aed765d577f92f,\n",
       "                },\n",
       "                overlays :  {\n",
       "                    &quot;Google Satellite&quot; : tile_layer_ff05805fc4fa15228a2809c45c0aabc9,\n",
       "                    &quot;Land Surface Temperature&quot; : tile_layer_3e91290a1a4d90fba3cc48217cffe898,\n",
       "                },\n",
       "            };\n",
       "            let layer_control_3f7f54c50e0e7009cd2ddf67385bf063 = L.control.layers(\n",
       "                layer_control_3f7f54c50e0e7009cd2ddf67385bf063_layers.base_layers,\n",
       "                layer_control_3f7f54c50e0e7009cd2ddf67385bf063_layers.overlays,\n",
       "                {&quot;autoZIndex&quot;: true, &quot;collapsed&quot;: true, &quot;position&quot;: &quot;topright&quot;}\n",
       "            ).addTo(map_c7b39842177395ec9215b94bd44df57a);\n",
       "\n",
       "        \n",
       "    \n",
       "            L.control.fullscreen(\n",
       "                {&quot;forceSeparateButton&quot;: false, &quot;position&quot;: &quot;topleft&quot;, &quot;title&quot;: &quot;Full Screen&quot;, &quot;titleCancel&quot;: &quot;Exit Full Screen&quot;}\n",
       "            ).addTo(map_c7b39842177395ec9215b94bd44df57a);\n",
       "        \n",
       "    \n",
       "                var lat_lng_popup_e85f8490aa9de6956660ef477678686b = L.popup();\n",
       "                function latLngPop(e) {\n",
       "                    lat_lng_popup_e85f8490aa9de6956660ef477678686b\n",
       "                        .setLatLng(e.latlng)\n",
       "                        .setContent(&quot;Latitude: &quot; + e.latlng.lat.toFixed(4) +\n",
       "                                    &quot;&lt;br&gt;Longitude: &quot; + e.latlng.lng.toFixed(4))\n",
       "                        .openOn(map_c7b39842177395ec9215b94bd44df57a);\n",
       "                    }\n",
       "                map_c7b39842177395ec9215b94bd44df57a.on(&#x27;click&#x27;, latLngPop);\n",
       "            \n",
       "&lt;/script&gt;\n",
       "&lt;/html&gt;\" style=\"position:absolute;width:100%;height:100%;left:0;top:0;border:none !important;\" allowfullscreen webkitallowfullscreen mozallowfullscreen></iframe></div></div>"
      ],
      "text/plain": [
       "<folium.folium.Map at 0x13ddb5a90>"
      ]
     },
     "execution_count": 13,
     "metadata": {},
     "output_type": "execute_result"
    }
   ],
   "source": [
    "import ee\n",
    "import folium\n",
    "import geehydro\n",
    "\n",
    "#coords = [-8.3333495,-36.4252664]  # [lat, long]\n",
    "coords = [-10,-40]  # [lat, long]\n",
    "Map = folium.Map(location=coords, zoom_start=6)\n",
    "Map.setOptions('SATELLITE')\n",
    "\n",
    "dataset = ee.ImageCollection(\"MODIS/006/MOD11A1\")\n",
    "dataset = dataset.select('LST_Day_1km')\n",
    "\n",
    "date_filter = ee.Filter.date('2011-01-01', '2021-01-01')\n",
    "dataset = dataset.filter(date_filter)\n",
    "\n",
    "image = dataset.mean()\n",
    "image = image.multiply(0.02).add(-273.15)\n",
    "visualisation_params = {\n",
    "  'min': 8,\n",
    "  'max': 40,\n",
    "  'palette': ['blue', 'yellow', 'red']\n",
    "}\n",
    "\n",
    "Map.addLayer(image, visualisation_params, 'Land Surface Temperature')\n",
    "Map.setControlVisibility(layerControl=True, fullscreenControl=True)\n",
    "Map"
   ]
  },
  {
   "cell_type": "code",
   "execution_count": null,
   "id": "12acb625-b7c8-48cd-ae13-423102698ad7",
   "metadata": {},
   "outputs": [],
   "source": []
  }
 ],
 "metadata": {
  "kernelspec": {
   "display_name": "datasci",
   "language": "python",
   "name": "datasci"
  },
  "language_info": {
   "codemirror_mode": {
    "name": "ipython",
    "version": 3
   },
   "file_extension": ".py",
   "mimetype": "text/x-python",
   "name": "python",
   "nbconvert_exporter": "python",
   "pygments_lexer": "ipython3",
   "version": "3.11.3"
  }
 },
 "nbformat": 4,
 "nbformat_minor": 5
}
