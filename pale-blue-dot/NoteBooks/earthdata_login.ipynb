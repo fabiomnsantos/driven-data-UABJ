{
 "cells": [
  {
   "cell_type": "code",
   "execution_count": null,
   "id": "46b9c01f-0e61-456b-aaa3-1a149803b5cc",
   "metadata": {},
   "outputs": [],
   "source": [
    "_usuario = \"fabiomnsantos\"\n",
    "_senha = \"EARTHDATA85fabio*\""
   ]
  }
 ],
 "metadata": {
  "kernelspec": {
   "display_name": "datasci",
   "language": "python",
   "name": "datasci"
  },
  "language_info": {
   "codemirror_mode": {
    "name": "ipython",
    "version": 3
   },
   "file_extension": ".py",
   "mimetype": "text/x-python",
   "name": "python",
   "nbconvert_exporter": "python",
   "pygments_lexer": "ipython3",
   "version": "3.11.3"
  }
 },
 "nbformat": 4,
 "nbformat_minor": 5
}
